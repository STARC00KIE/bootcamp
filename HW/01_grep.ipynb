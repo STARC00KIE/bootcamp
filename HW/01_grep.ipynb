{
 "cells": [
  {
   "cell_type": "markdown",
   "metadata": {},
   "source": [
    "# 모두의 리눅스 grep명령어 파트 실습 (p.276 ~ p.292)"
   ]
  },
  {
   "cell_type": "code",
   "execution_count": 10,
   "metadata": {},
   "outputs": [
    {
     "name": "stdout",
     "output_type": "stream",
     "text": [
      "/\n",
      "\u001b[0m\u001b[01;36mbin\u001b[0m@   \u001b[01;34metc\u001b[0m/   \u001b[01;36mlib\u001b[0m@    \u001b[01;36mlibx32\u001b[0m@      \u001b[01;34mmnt\u001b[0m/   \u001b[01;34mroot\u001b[0m/  \u001b[01;34msnap\u001b[0m/  \u001b[30;42mtmp\u001b[0m/\n",
      "\u001b[01;34mboot\u001b[0m/  \u001b[01;34mhome\u001b[0m/  \u001b[01;36mlib32\u001b[0m@  \u001b[01;34mlost+found\u001b[0m/  \u001b[01;34mopt\u001b[0m/   \u001b[01;34mrun\u001b[0m/   \u001b[01;34msrv\u001b[0m/   \u001b[01;34musr\u001b[0m/\n",
      "\u001b[01;34mdev\u001b[0m/   \u001b[01;32minit\u001b[0m*  \u001b[01;36mlib64\u001b[0m@  \u001b[01;34mmedia\u001b[0m/       \u001b[01;34mproc\u001b[0m/  \u001b[01;36msbin\u001b[0m@  \u001b[01;34msys\u001b[0m/   \u001b[01;34mvar\u001b[0m/\n"
     ]
    },
    {
     "name": "stderr",
     "output_type": "stream",
     "text": [
      "/home/starcookie/.local/lib/python3.10/site-packages/IPython/core/magics/osm.py:417: UserWarning: This is now an optional IPython functionality, setting dhist requires you to install the `pickleshare` library.\n",
      "  self.shell.db['dhist'] = compress_dhist(dhist)[-100:]\n"
     ]
    }
   ],
   "source": [
    "# 최상위 경로\n",
    "%cd /\n",
    "%ls"
   ]
  },
  {
   "cell_type": "code",
   "execution_count": 12,
   "metadata": {},
   "outputs": [
    {
     "name": "stdout",
     "output_type": "stream",
     "text": [
      "root:x:0:0:root:/root:/bin/bash\n",
      "starcookie:x:1000:1000:,,,:/home/starcookie:/bin/bash\n"
     ]
    }
   ],
   "source": [
    "# 문자열 bash를 포함하는 행\n",
    "!grep bash /etc/passwd"
   ]
  },
  {
   "cell_type": "code",
   "execution_count": 13,
   "metadata": {},
   "outputs": [
    {
     "name": "stdout",
     "output_type": "stream",
     "text": [
      "7:[ -z \"$PS1\" ] && return\n",
      "19:# but only if not SUDOing and have SUDO_PS1 set; then assume smart user.\n",
      "20:if ! [ -n \"${SUDO_USER}\" -a -n \"${SUDO_PS1}\" ]; then\n",
      "21:  PS1='${debian_chroot:+($debian_chroot)}\\u@\\h:\\w\\$ '\n"
     ]
    }
   ],
   "source": [
    "# 검색 결과를 행 번호와 함께 표시\n",
    "!grep -n PS1 /etc/bash.bashrc"
   ]
  },
  {
   "cell_type": "code",
   "execution_count": 14,
   "metadata": {},
   "outputs": [
    {
     "name": "stdout",
     "output_type": "stream",
     "text": [
      "# System-wide .bashrc file for interactive bash(1) shells.\n"
     ]
    }
   ],
   "source": [
    "# 대소문자를 구별하지 않고 검색\n",
    "!grep system /etc/bash.bashrc\n",
    "!grep -i system /etc/bash.bashrc\n"
   ]
  },
  {
   "cell_type": "code",
   "execution_count": 15,
   "metadata": {},
   "outputs": [
    {
     "name": "stdout",
     "output_type": "stream",
     "text": [
      "daemon:x:1:1:daemon:/usr/sbin:/usr/sbin/nologin\n",
      "bin:x:2:2:bin:/bin:/usr/sbin/nologin\n",
      "sys:x:3:3:sys:/dev:/usr/sbin/nologin\n",
      "sync:x:4:65534:sync:/bin:/bin/sync\n",
      "games:x:5:60:games:/usr/games:/usr/sbin/nologin\n",
      "man:x:6:12:man:/var/cache/man:/usr/sbin/nologin\n",
      "lp:x:7:7:lp:/var/spool/lpd:/usr/sbin/nologin\n",
      "mail:x:8:8:mail:/var/mail:/usr/sbin/nologin\n",
      "news:x:9:9:news:/var/spool/news:/usr/sbin/nologin\n",
      "uucp:x:10:10:uucp:/var/spool/uucp:/usr/sbin/nologin\n",
      "proxy:x:13:13:proxy:/bin:/usr/sbin/nologin\n",
      "www-data:x:33:33:www-data:/var/www:/usr/sbin/nologin\n",
      "backup:x:34:34:backup:/var/backups:/usr/sbin/nologin\n",
      "list:x:38:38:Mailing List Manager:/var/list:/usr/sbin/nologin\n",
      "irc:x:39:39:ircd:/run/ircd:/usr/sbin/nologin\n",
      "gnats:x:41:41:Gnats Bug-Reporting System (admin):/var/lib/gnats:/usr/sbin/nologin\n",
      "nobody:x:65534:65534:nobody:/nonexistent:/usr/sbin/nologin\n",
      "systemd-network:x:100:102:systemd Network Management,,,:/run/systemd:/usr/sbin/nologin\n",
      "systemd-resolve:x:101:103:systemd Resolver,,,:/run/systemd:/usr/sbin/nologin\n",
      "messagebus:x:102:105::/nonexistent:/usr/sbin/nologin\n",
      "systemd-timesync:x:103:106:systemd Time Synchronization,,,:/run/systemd:/usr/sbin/nologin\n",
      "syslog:x:104:111::/home/syslog:/usr/sbin/nologin\n",
      "_apt:x:105:65534::/nonexistent:/usr/sbin/nologin\n",
      "uuidd:x:106:112::/run/uuidd:/usr/sbin/nologin\n",
      "tcpdump:x:107:113::/nonexistent:/usr/sbin/nologin\n"
     ]
    }
   ],
   "source": [
    "# 문자열 bash를 포함하지 않는 행 출력\n",
    "!grep -v bash /etc/passwd"
   ]
  },
  {
   "cell_type": "code",
   "execution_count": 16,
   "metadata": {},
   "outputs": [
    {
     "name": "stdout",
     "output_type": "stream",
     "text": [
      "cron.d\n",
      "cron.daily\n",
      "cron.hourly\n",
      "cron.monthly\n",
      "cron.weekly\n",
      "crontab\n"
     ]
    }
   ],
   "source": [
    "# /etc 디렉터리에 있는 파일 중에 cron이라는 글자를 포함하는 파일을 검색\n",
    "!ls /etc | grep cron"
   ]
  },
  {
   "cell_type": "code",
   "execution_count": 17,
   "metadata": {},
   "outputs": [
    {
     "name": "stdout",
     "output_type": "stream",
     "text": [
      "cron.d\n",
      "cron.daily\n",
      "cron.hourly\n",
      "cron.monthly\n",
      "cron.weekly\n",
      "crontab\n"
     ]
    }
   ],
   "source": [
    "# 정규 표현식 ^을 사용하여 cron으로 시작하는 행만 출력\n",
    "!ls /etc | grep '^cron'"
   ]
  },
  {
   "cell_type": "code",
   "execution_count": 27,
   "metadata": {},
   "outputs": [
    {
     "name": "stdout",
     "output_type": "stream",
     "text": [
      "bin   dev  home  lib\tlib64\tlost+found  mnt  proc  run   snap  sys\tusr\n",
      "boot  etc  init  lib32\tlibx32\tmedia\t    opt  root  sbin  srv   tmp\tvar\n"
     ]
    }
   ],
   "source": [
    "# 점을"
   ]
  },
  {
   "cell_type": "code",
   "execution_count": 28,
   "metadata": {},
   "outputs": [
    {
     "name": "stdout",
     "output_type": "stream",
     "text": [
      "bin   dev  home  lib\tlib64\tlost+found  mnt  proc  run   snap  sys\tusr\n",
      "boot  etc  init  lib32\tlibx32\tmedia\t    opt  root  sbin  srv   tmp\tvar\n"
     ]
    }
   ],
   "source": []
  }
 ],
 "metadata": {
  "kernelspec": {
   "display_name": "Python 3",
   "language": "python",
   "name": "python3"
  },
  "language_info": {
   "codemirror_mode": {
    "name": "ipython",
    "version": 3
   },
   "file_extension": ".py",
   "mimetype": "text/x-python",
   "name": "python",
   "nbconvert_exporter": "python",
   "pygments_lexer": "ipython3",
   "version": "3.10.12"
  }
 },
 "nbformat": 4,
 "nbformat_minor": 2
}
