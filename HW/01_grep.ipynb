{
 "cells": [
  {
   "cell_type": "markdown",
   "metadata": {},
   "source": [
    "# 모두의 리눅스 grep명령어 파트 실습 (p.276 ~ p.292)"
   ]
  },
  {
   "cell_type": "code",
   "execution_count": 10,
   "metadata": {},
   "outputs": [
    {
     "name": "stdout",
     "output_type": "stream",
     "text": [
      "/\n",
      "\u001b[0m\u001b[01;36mbin\u001b[0m@   \u001b[01;34metc\u001b[0m/   \u001b[01;36mlib\u001b[0m@    \u001b[01;36mlibx32\u001b[0m@      \u001b[01;34mmnt\u001b[0m/   \u001b[01;34mroot\u001b[0m/  \u001b[01;34msnap\u001b[0m/  \u001b[30;42mtmp\u001b[0m/\n",
      "\u001b[01;34mboot\u001b[0m/  \u001b[01;34mhome\u001b[0m/  \u001b[01;36mlib32\u001b[0m@  \u001b[01;34mlost+found\u001b[0m/  \u001b[01;34mopt\u001b[0m/   \u001b[01;34mrun\u001b[0m/   \u001b[01;34msrv\u001b[0m/   \u001b[01;34musr\u001b[0m/\n",
      "\u001b[01;34mdev\u001b[0m/   \u001b[01;32minit\u001b[0m*  \u001b[01;36mlib64\u001b[0m@  \u001b[01;34mmedia\u001b[0m/       \u001b[01;34mproc\u001b[0m/  \u001b[01;36msbin\u001b[0m@  \u001b[01;34msys\u001b[0m/   \u001b[01;34mvar\u001b[0m/\n"
     ]
    }
   ],
   "source": [
    "# 최상위 경로\n",
    "%cd /\n",
    "%ls"
   ]
  },
  {
   "cell_type": "code",
   "execution_count": 11,
   "metadata": {},
   "outputs": [
    {
     "name": "stdout",
     "output_type": "stream",
     "text": [
      "root:x:0:0:root:/root:/bin/bash\n",
      "starcookie:x:1000:1000:,,,:/home/starcookie:/bin/bash\n"
     ]
    }
   ],
   "source": [
    "# 문자열 bash를 포함하는 행\n",
    "!grep bash /etc/passwd"
   ]
  },
  {
   "cell_type": "code",
   "execution_count": 12,
   "metadata": {},
   "outputs": [
    {
     "name": "stdout",
     "output_type": "stream",
     "text": [
      "7:[ -z \"$PS1\" ] && return\n",
      "19:# but only if not SUDOing and have SUDO_PS1 set; then assume smart user.\n",
      "20:if ! [ -n \"${SUDO_USER}\" -a -n \"${SUDO_PS1}\" ]; then\n",
      "21:  PS1='${debian_chroot:+($debian_chroot)}\\u@\\h:\\w\\$ '\n"
     ]
    }
   ],
   "source": [
    "# 검색 결과를 행 번호와 함께 표시\n",
    "!grep -n PS1 /etc/bash.bashrc"
   ]
  },
  {
   "cell_type": "code",
   "execution_count": 13,
   "metadata": {},
   "outputs": [
    {
     "name": "stdout",
     "output_type": "stream",
     "text": [
      "# System-wide .bashrc file for interactive bash(1) shells.\n"
     ]
    }
   ],
   "source": [
    "# 대소문자를 구별하지 않고 검색\n",
    "!grep system /etc/bash.bashrc\n",
    "!grep -i system /etc/bash.bashrc\n"
   ]
  },
  {
   "cell_type": "code",
   "execution_count": 14,
   "metadata": {},
   "outputs": [
    {
     "name": "stdout",
     "output_type": "stream",
     "text": [
      "daemon:x:1:1:daemon:/usr/sbin:/usr/sbin/nologin\n",
      "bin:x:2:2:bin:/bin:/usr/sbin/nologin\n",
      "sys:x:3:3:sys:/dev:/usr/sbin/nologin\n",
      "sync:x:4:65534:sync:/bin:/bin/sync\n",
      "games:x:5:60:games:/usr/games:/usr/sbin/nologin\n",
      "man:x:6:12:man:/var/cache/man:/usr/sbin/nologin\n",
      "lp:x:7:7:lp:/var/spool/lpd:/usr/sbin/nologin\n",
      "mail:x:8:8:mail:/var/mail:/usr/sbin/nologin\n",
      "news:x:9:9:news:/var/spool/news:/usr/sbin/nologin\n",
      "uucp:x:10:10:uucp:/var/spool/uucp:/usr/sbin/nologin\n",
      "proxy:x:13:13:proxy:/bin:/usr/sbin/nologin\n",
      "www-data:x:33:33:www-data:/var/www:/usr/sbin/nologin\n",
      "backup:x:34:34:backup:/var/backups:/usr/sbin/nologin\n",
      "list:x:38:38:Mailing List Manager:/var/list:/usr/sbin/nologin\n",
      "irc:x:39:39:ircd:/run/ircd:/usr/sbin/nologin\n",
      "gnats:x:41:41:Gnats Bug-Reporting System (admin):/var/lib/gnats:/usr/sbin/nologin\n",
      "nobody:x:65534:65534:nobody:/nonexistent:/usr/sbin/nologin\n",
      "systemd-network:x:100:102:systemd Network Management,,,:/run/systemd:/usr/sbin/nologin\n",
      "systemd-resolve:x:101:103:systemd Resolver,,,:/run/systemd:/usr/sbin/nologin\n",
      "messagebus:x:102:105::/nonexistent:/usr/sbin/nologin\n",
      "systemd-timesync:x:103:106:systemd Time Synchronization,,,:/run/systemd:/usr/sbin/nologin\n",
      "syslog:x:104:111::/home/syslog:/usr/sbin/nologin\n",
      "_apt:x:105:65534::/nonexistent:/usr/sbin/nologin\n",
      "uuidd:x:106:112::/run/uuidd:/usr/sbin/nologin\n",
      "tcpdump:x:107:113::/nonexistent:/usr/sbin/nologin\n"
     ]
    }
   ],
   "source": [
    "# 문자열 bash를 포함하지 않는 행 출력\n",
    "!grep -v bash /etc/passwd"
   ]
  },
  {
   "cell_type": "code",
   "execution_count": 15,
   "metadata": {},
   "outputs": [
    {
     "name": "stdout",
     "output_type": "stream",
     "text": [
      "cron.d\n",
      "cron.daily\n",
      "cron.hourly\n",
      "cron.monthly\n",
      "cron.weekly\n",
      "crontab\n"
     ]
    }
   ],
   "source": [
    "# /etc 디렉터리에 있는 파일 중에 cron이라는 글자를 포함하는 파일을 검색\n",
    "!ls /etc | grep cron"
   ]
  },
  {
   "cell_type": "code",
   "execution_count": 16,
   "metadata": {},
   "outputs": [
    {
     "name": "stdout",
     "output_type": "stream",
     "text": [
      "cron.d\n",
      "cron.daily\n",
      "cron.hourly\n",
      "cron.monthly\n",
      "cron.weekly\n",
      "crontab\n"
     ]
    }
   ],
   "source": [
    "# 정규 표현식 ^을 사용하여 cron으로 시작하는 행만 출력\n",
    "!ls /etc | grep '^cron'"
   ]
  },
  {
   "cell_type": "code",
   "execution_count": 17,
   "metadata": {},
   "outputs": [
    {
     "name": "stdout",
     "output_type": "stream",
     "text": [
      "/home/starcookie/bootcamp/HW\n"
     ]
    }
   ],
   "source": [
    "# 작업 위치 변경\n",
    "%cd ~/bootcamp/HW"
   ]
  },
  {
   "cell_type": "code",
   "execution_count": 18,
   "metadata": {},
   "outputs": [
    {
     "name": "stdout",
     "output_type": "stream",
     "text": [
      "tzzst.example.net\n"
     ]
    }
   ],
   "source": [
    "# 점을 사용하여 임의의 문자 하나를 지정\n",
    "!grep 't..st' ./data/example.txt"
   ]
  },
  {
   "cell_type": "code",
   "execution_count": 19,
   "metadata": {},
   "outputs": [
    {
     "name": "stdout",
     "output_type": "stream",
     "text": [
      "tzzst.example.net\n"
     ]
    }
   ],
   "source": [
    "# t..st로 검색\n",
    "!grep 't..st' ./data/example.txt"
   ]
  },
  {
   "cell_type": "code",
   "execution_count": 20,
   "metadata": {},
   "outputs": [
    {
     "name": "stdout",
     "output_type": "stream",
     "text": [
      "www.example.org\n",
      "borg.example.com\n"
     ]
    }
   ],
   "source": [
    "# 메타 문자 .은 기호도 포함\n",
    "!grep '.org' ./data/example.txt"
   ]
  },
  {
   "cell_type": "code",
   "execution_count": 21,
   "metadata": {},
   "outputs": [
    {
     "name": "stdout",
     "output_type": "stream",
     "text": [
      "www.example.org\n"
     ]
    }
   ],
   "source": [
    "# 점이라는 기호를 검색\n",
    "!grep '\\.org' ./data/example.txt"
   ]
  },
  {
   "cell_type": "code",
   "execution_count": 22,
   "metadata": {},
   "outputs": [
    {
     "name": "stdout",
     "output_type": "stream",
     "text": [
      "test.example.net\n",
      "tfst.example.net\n"
     ]
    }
   ],
   "source": [
    "# test 혹은 tfst 검색\n",
    "!grep 't[ef]st' ./data/example.txt"
   ]
  },
  {
   "cell_type": "code",
   "execution_count": 23,
   "metadata": {},
   "outputs": [
    {
     "name": "stdout",
     "output_type": "stream",
     "text": [
      "mail1.example.com\n",
      "mail3.example.com\n"
     ]
    }
   ],
   "source": [
    "# mail1부터 mail4까지 검색\n",
    "!grep 'mail[1-4]' ./data/example.txt"
   ]
  },
  {
   "cell_type": "code",
   "execution_count": 24,
   "metadata": {},
   "outputs": [
    {
     "name": "stdout",
     "output_type": "stream",
     "text": [
      "mail7.example.com\n"
     ]
    }
   ],
   "source": [
    "# 지정한 문자 이외의 문자를 검색\n",
    "!grep 'mail[^13]' ./data/example.txt"
   ]
  },
  {
   "cell_type": "code",
   "execution_count": 25,
   "metadata": {},
   "outputs": [
    {
     "name": "stdout",
     "output_type": "stream",
     "text": [
      "test.example.net\n",
      "tfst.example.net\n",
      "tzst.example.net\n",
      "tzzst.example.net\n",
      "netapp.example.com\n"
     ]
    }
   ],
   "source": [
    "# net을 포함하는 모든 문자열이 검색됨\n",
    "!grep 'net' ./data/example.txt"
   ]
  },
  {
   "cell_type": "code",
   "execution_count": 26,
   "metadata": {},
   "outputs": [
    {
     "name": "stdout",
     "output_type": "stream",
     "text": [
      "netapp.example.com\n"
     ]
    }
   ],
   "source": [
    "# net으로 시작하는 문자열을 검색\n",
    "!grep '^net' ./data/example.txt"
   ]
  },
  {
   "cell_type": "code",
   "execution_count": 27,
   "metadata": {},
   "outputs": [
    {
     "name": "stdout",
     "output_type": "stream",
     "text": [
      "test.example.net\n",
      "tfst.example.net\n",
      "tzst.example.net\n",
      "tzzst.example.net\n"
     ]
    }
   ],
   "source": [
    "# net으로 끝나는 행 검색\n",
    "!grep 'net$' ./data/example.txt"
   ]
  },
  {
   "cell_type": "code",
   "execution_count": 28,
   "metadata": {},
   "outputs": [
    {
     "name": "stdout",
     "output_type": "stream",
     "text": [
      "Ber\n",
      "Beer\n",
      "BeerBeer\n",
      "BeerBeerBeer\n",
      "Beeeeeeeeer!!!\n",
      "Beer\n",
      "Br\n"
     ]
    }
   ],
   "source": [
    "# *의 사용 예\n",
    "!grep 'Be*r' ./data/drink.txt"
   ]
  },
  {
   "cell_type": "code",
   "execution_count": 29,
   "metadata": {},
   "outputs": [
    {
     "name": "stdout",
     "output_type": "stream",
     "text": [
      "Ber\n",
      "Beer\n",
      "Beer\n",
      "Br\n"
     ]
    }
   ],
   "source": [
    "# *의 사용 예2\n",
    "!grep '^B[ea]*r$' ./data/drink.txt"
   ]
  },
  {
   "cell_type": "code",
   "execution_count": 30,
   "metadata": {},
   "outputs": [
    {
     "name": "stdout",
     "output_type": "stream",
     "text": [
      "Ber\n",
      "Beer\n",
      "BeerBeer\n",
      "BeerBeerBeer\n",
      "Beeeeeeeeer!!!\n",
      "Beer\n"
     ]
    }
   ],
   "source": [
    "# -E 옵션을 지정하여 확장 정규 표현식으로 검색\n",
    "!grep 'Be+r' ./data/drink.txt #검색되지 않음\n",
    "!grep -E 'Be+r' ./data/drink.txt"
   ]
  },
  {
   "cell_type": "code",
   "execution_count": 31,
   "metadata": {},
   "outputs": [
    {
     "name": "stdout",
     "output_type": "stream",
     "text": [
      "Ber\n",
      "Beer\n",
      "BeerBeer\n",
      "BeerBeerBeer\n",
      "Beeeeeeeeer!!!\n",
      "Beer\n"
     ]
    }
   ],
   "source": [
    "# 확장 정규 표현식을 사용하는 또 다른 방법\n",
    "!grep 'Be\\+r' ./data/drink.txt"
   ]
  },
  {
   "cell_type": "code",
   "execution_count": 32,
   "metadata": {},
   "outputs": [
    {
     "name": "stdout",
     "output_type": "stream",
     "text": [
      "Ber\n",
      "Beer\n",
      "BeerBeer\n",
      "BeerBeerBeer\n",
      "Beeeeeeeeer!!!\n",
      "Beer\n"
     ]
    }
   ],
   "source": [
    "# e가 1번 이상 나타나는 경우를 탐색\n",
    "!grep -E 'Be+r' ./data/drink.txt"
   ]
  },
  {
   "cell_type": "code",
   "execution_count": 33,
   "metadata": {},
   "outputs": [
    {
     "name": "stdout",
     "output_type": "stream",
     "text": [
      "Wine Wine\n",
      "WineWine\n"
     ]
    }
   ],
   "source": [
    "# 공백이 0회 혹은1회 나타나는 경우를 탐색\n",
    "!grep -E 'Wine ?Wine' ./data/drink.txt"
   ]
  },
  {
   "cell_type": "code",
   "execution_count": 34,
   "metadata": {},
   "outputs": [],
   "source": [
    "import subprocess"
   ]
  },
  {
   "cell_type": "code",
   "execution_count": 35,
   "metadata": {},
   "outputs": [
    {
     "name": "stdout",
     "output_type": "stream",
     "text": [
      "Ber\n",
      "Beer\n",
      "BeerBeer\n",
      "BeerBeerBeer\n",
      "Beer\n",
      "\n"
     ]
    }
   ],
   "source": [
    "# e가 1회 이상 2회 이하 반복되는 패턴을 지정\n",
    "\n",
    "# subprocess를 사용하여 grep 명령어 실행\n",
    "result = subprocess.run(['grep', '-E', 'Be{1,2}r', './data/drink.txt'], capture_output=True, text=True)\n",
    "\n",
    "# 결과 출력\n",
    "print(result.stdout)"
   ]
  },
  {
   "cell_type": "code",
   "execution_count": 36,
   "metadata": {},
   "outputs": [
    {
     "name": "stdout",
     "output_type": "stream",
     "text": [
      "Beer\n",
      "BeerBeer\n",
      "BeerBeerBeer\n",
      "Beer\n",
      "\n"
     ]
    }
   ],
   "source": [
    "# e가 2번 반복되는 것을 검색\n",
    "\n",
    "# subprocess를 사용하여 grep 명령어 실행\n",
    "result = subprocess.run(['grep', '-E', 'Be{2}r', './data/drink.txt'], capture_output=True, text=True)\n",
    "\n",
    "# 결과 출력\n",
    "print(result.stdout)"
   ]
  },
  {
   "cell_type": "code",
   "execution_count": 40,
   "metadata": {},
   "outputs": [
    {
     "name": "stdout",
     "output_type": "stream",
     "text": [
      "Beeeeeeeeer!!!\n",
      "\n"
     ]
    }
   ],
   "source": [
    "# e가 4번 이상 나타나는 패턴 검색\n",
    "\n",
    "# subprocess를 사용하여 grep 명령어 실행\n",
    "result = subprocess.run(['grep', '-E', 'Be{4,}r', './data/drink.txt'], capture_output=True, text=True)\n",
    "\n",
    "# 결과 출력\n",
    "print(result.stdout)"
   ]
  },
  {
   "cell_type": "code",
   "execution_count": 38,
   "metadata": {},
   "outputs": [
    {
     "name": "stdout",
     "output_type": "stream",
     "text": [
      "WineWine\n",
      "\n"
     ]
    }
   ],
   "source": [
    "# Wine이라는 단어가 2회 이상 반복되는 패턴을 검색\n",
    "\n",
    "# subprocess를 사용하여 grep 명령어 실행\n",
    "result = subprocess.run(['grep', '-E', '(Wine){2,}', './data/drink.txt'], capture_output=True, text=True)\n",
    "\n",
    "# 결과 출력\n",
    "print(result.stdout)"
   ]
  },
  {
   "cell_type": "code",
   "execution_count": 39,
   "metadata": {},
   "outputs": [
    {
     "name": "stdout",
     "output_type": "stream",
     "text": [
      "My Vodka\n",
      "My Wine\n"
     ]
    }
   ],
   "source": [
    "# My Vodka 혹은 My wine을 검색\n",
    "!grep -E 'My (Vodka|Wine)' ./data/drink.txt"
   ]
  },
  {
   "cell_type": "code",
   "execution_count": null,
   "metadata": {},
   "outputs": [],
   "source": [
    "\n",
    "\n"
   ]
  }
 ],
 "metadata": {
  "kernelspec": {
   "display_name": "Python 3",
   "language": "python",
   "name": "python3"
  },
  "language_info": {
   "codemirror_mode": {
    "name": "ipython",
    "version": 3
   },
   "file_extension": ".py",
   "mimetype": "text/x-python",
   "name": "python",
   "nbconvert_exporter": "python",
   "pygments_lexer": "ipython3",
   "version": "3.10.12"
  }
 },
 "nbformat": 4,
 "nbformat_minor": 2
}
