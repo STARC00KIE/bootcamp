{
 "cells": [
  {
   "cell_type": "markdown",
   "id": "6201b4f8",
   "metadata": {},
   "source": [
    "# [05/07] 파이썬 6일차 실습예제"
   ]
  },
  {
   "cell_type": "markdown",
   "id": "6223a958",
   "metadata": {},
   "source": [
    "## 굿모닝 코딩\n",
    "https://school.programmers.co.kr/learn/courses/30/lessons/340213"
   ]
  },
  {
   "cell_type": "code",
   "execution_count": 26,
   "id": "b0ef75e2",
   "metadata": {},
   "outputs": [],
   "source": [
    "def solution(video_len, pos, op_start, op_end, commands):\n",
    "    min_answer = \"\"\n",
    "    sec_answer = \"\"\n",
    "    answer = \"\"\n",
    "\n",
    "    # 분으로 바꿔버리기\n",
    "    min_video_len   = 60 * int(video_len[:2]) + int(video_len[3:])\n",
    "    min_pos         = 60 * int(pos[:2]) + int(pos[3:])\n",
    "    min_op_start    = 60 * int(op_start[:2]) + int(op_start[3:])\n",
    "    min_op_end      = 60 * int(op_end[:2]) + int(op_end[3:])\n",
    "\n",
    "    for command in commands:\n",
    "        if min_pos >= min_op_start and min_pos <= min_op_end:\n",
    "            min_pos = min_op_end\n",
    "\n",
    "        if command == \"next\":\n",
    "            min_pos += 10\n",
    "        elif command == \"prev\":\n",
    "            min_pos -= 10\n",
    "\n",
    "        if min_pos < 0:\n",
    "            min_pos = 0\n",
    "        if min_pos > min_video_len:\n",
    "            min_pos = min_video_len\n",
    "\n",
    "    # 마지막 확인\n",
    "    if min_pos >= min_op_start and min_pos <= min_op_end:\n",
    "            min_pos = min_op_end\n",
    "\n",
    "    # 분 정답으로 바꾸기\n",
    "    if len(str(min_pos // 60)) == 1:\n",
    "        min_answer = \"0\" + str(min_pos // 60)\n",
    "    else:\n",
    "        min_answer = str(min_pos // 60)\n",
    "    # 초\n",
    "    if len(str(min_pos % 60)) == 1:\n",
    "        sec_answer = \"0\" + str(min_pos % 60)\n",
    "    else:\n",
    "        sec_answer = str(min_pos % 60)\n",
    "\n",
    "    answer = min_answer + \":\" + sec_answer\n",
    "    return answer"
   ]
  },
  {
   "cell_type": "markdown",
   "id": "59acb5f8",
   "metadata": {},
   "source": [
    "# try - except\n",
    "\n",
    "- 프로그램이 에러 때문에 멈추지 않게, 에러(예외)를 잡아서 처리하는 방법\n",
    "- try 문에 에러가 발생했을 때 except 문 실행\n",
    "```python\n",
    "try:\n",
    "    # 에러가 날 수도 있는 코드\n",
    "except 에러종류 as e:\n",
    "    # 에러가 났을 때 실행할 코드\n",
    "    # e에 에러 메세지 담김\n",
    "finally:\n",
    "    # 항상 마지막에 실행, 선택사항임\n",
    "```"
   ]
  },
  {
   "cell_type": "markdown",
   "id": "855ee4e9",
   "metadata": {},
   "source": [
    "# Numpy"
   ]
  },
  {
   "cell_type": "code",
   "execution_count": 27,
   "id": "0a9ef9bb",
   "metadata": {},
   "outputs": [
    {
     "name": "stdout",
     "output_type": "stream",
     "text": [
      "[0 1 2 3 4 5 6 7 8 9]\n"
     ]
    }
   ],
   "source": [
    "import numpy as np\n",
    "nd1 = np.arange(10)\n",
    "print(nd1)"
   ]
  },
  {
   "cell_type": "code",
   "execution_count": 28,
   "id": "8c1cf3ad",
   "metadata": {},
   "outputs": [
    {
     "data": {
      "text/plain": [
       "(10,)"
      ]
     },
     "execution_count": 28,
     "metadata": {},
     "output_type": "execute_result"
    }
   ],
   "source": [
    "nd1.shape"
   ]
  },
  {
   "cell_type": "code",
   "execution_count": 29,
   "id": "bb3c27c6",
   "metadata": {},
   "outputs": [
    {
     "name": "stdout",
     "output_type": "stream",
     "text": [
      "[[ 0  1  2  3]\n",
      " [ 4  5  6  7]\n",
      " [ 8  9 10 11]]\n"
     ]
    }
   ],
   "source": [
    "nd1 = np.arange(12).reshape(3,4) # 3 * 4 \n",
    "print(nd1)"
   ]
  },
  {
   "cell_type": "code",
   "execution_count": 30,
   "id": "9b233c01",
   "metadata": {},
   "outputs": [
    {
     "name": "stdout",
     "output_type": "stream",
     "text": [
      "[0 1 2 3 4]\n",
      "[[0]\n",
      " [1]\n",
      " [2]\n",
      " [3]\n",
      " [4]]\n",
      "[[0 1 2 3 4]]\n"
     ]
    }
   ],
   "source": [
    "nd1 = np.arange(5)\n",
    "print(nd1)\n",
    "nd1 = np.arange(5).reshape(5,1)\n",
    "print(nd1)\n",
    "nd1 = np.arange(5).reshape(1,5)\n",
    "print(nd1)"
   ]
  },
  {
   "cell_type": "code",
   "execution_count": 31,
   "id": "02716252",
   "metadata": {},
   "outputs": [
    {
     "name": "stdout",
     "output_type": "stream",
     "text": [
      "[0 1 2 3 4]\n",
      "[3 4 5 6 7]\n"
     ]
    }
   ],
   "source": [
    "nd1 = np.arange(5)\n",
    "print(nd1)\n",
    "print(nd1 + 3)"
   ]
  },
  {
   "cell_type": "code",
   "execution_count": 32,
   "id": "93e8f4dc",
   "metadata": {},
   "outputs": [
    {
     "name": "stdout",
     "output_type": "stream",
     "text": [
      "[0 1 2 3 4]\n",
      "[[0]\n",
      " [1]\n",
      " [2]\n",
      " [3]\n",
      " [4]]\n",
      "[[0 1 2 3 4]\n",
      " [1 2 3 4 5]\n",
      " [2 3 4 5 6]\n",
      " [3 4 5 6 7]\n",
      " [4 5 6 7 8]]\n",
      "[[ True False False False False]\n",
      " [False  True False False False]\n",
      " [False False  True False False]\n",
      " [False False False  True False]\n",
      " [False False False False  True]]\n"
     ]
    }
   ],
   "source": [
    "nd1 = np.arange(5)\n",
    "print(nd1)\n",
    "nd2 = np.arange(5).reshape(5,1)\n",
    "print(nd2)\n",
    "print(nd1+nd2)\n",
    "print(nd1==nd2)"
   ]
  },
  {
   "cell_type": "code",
   "execution_count": 33,
   "id": "6def97d8",
   "metadata": {},
   "outputs": [
    {
     "name": "stdout",
     "output_type": "stream",
     "text": [
      "[ 5  7  9 11 13 15 17 19]\n"
     ]
    }
   ],
   "source": [
    "nd1 = np.arange(5,20,2) # 5부터 19까지 2씩 늘려서\n",
    "print(nd1)"
   ]
  },
  {
   "cell_type": "code",
   "execution_count": 34,
   "id": "3f2be3e9",
   "metadata": {},
   "outputs": [
    {
     "name": "stdout",
     "output_type": "stream",
     "text": [
      "[11]\n"
     ]
    }
   ],
   "source": [
    "print(nd1[3:4]) # 4번째 값 반환환"
   ]
  },
  {
   "cell_type": "code",
   "execution_count": 35,
   "id": "8807d4c6",
   "metadata": {},
   "outputs": [
    {
     "data": {
      "text/plain": [
       "array([13, 15, 17, 19])"
      ]
     },
     "execution_count": 35,
     "metadata": {},
     "output_type": "execute_result"
    }
   ],
   "source": [
    "nd1[nd1 > 12] # 12보다 큰 값 반환환"
   ]
  },
  {
   "cell_type": "code",
   "execution_count": 36,
   "id": "d25e1b7c",
   "metadata": {},
   "outputs": [
    {
     "data": {
      "text/plain": [
       "array([ 5,  9, 11, 13, 17, 19])"
      ]
     },
     "execution_count": 36,
     "metadata": {},
     "output_type": "execute_result"
    }
   ],
   "source": [
    "nd1[[True, False, True, True, True, False, True, True]] # True 값만 바노한한"
   ]
  },
  {
   "cell_type": "code",
   "execution_count": 37,
   "id": "9cec24f4",
   "metadata": {},
   "outputs": [
    {
     "name": "stdout",
     "output_type": "stream",
     "text": [
      "[0 1 2 3 4 5]\n"
     ]
    }
   ],
   "source": [
    "nd1 = np.arange(6)\n",
    "print(nd1)"
   ]
  },
  {
   "cell_type": "code",
   "execution_count": 38,
   "id": "289d24d6",
   "metadata": {},
   "outputs": [
    {
     "data": {
      "text/plain": [
       "array([[0, 1, 2],\n",
       "       [3, 4, 5]])"
      ]
     },
     "execution_count": 38,
     "metadata": {},
     "output_type": "execute_result"
    }
   ],
   "source": [
    "nd1.reshape(2,3)"
   ]
  },
  {
   "cell_type": "code",
   "execution_count": 39,
   "id": "68439af7",
   "metadata": {},
   "outputs": [
    {
     "data": {
      "text/plain": [
       "array([[0],\n",
       "       [1],\n",
       "       [2],\n",
       "       [3],\n",
       "       [4],\n",
       "       [5]])"
      ]
     },
     "execution_count": 39,
     "metadata": {},
     "output_type": "execute_result"
    }
   ],
   "source": [
    "nd1[:,np.newaxis] # 새로운 축을 추가살 때 사용 1차원 배열을 2차원 배열로 변환\n",
    "# (5,) 에서 (5, 1)로 변환"
   ]
  },
  {
   "cell_type": "code",
   "execution_count": 40,
   "id": "5ff2da61",
   "metadata": {},
   "outputs": [
    {
     "name": "stdout",
     "output_type": "stream",
     "text": [
      "[[[ 0  1  2  3]\n",
      "  [ 4  5  6  7]\n",
      "  [ 8  9 10 11]]\n",
      "\n",
      " [[12 13 14 15]\n",
      "  [16 17 18 19]\n",
      "  [20 21 22 23]]]\n"
     ]
    }
   ],
   "source": [
    "# axis= 0 행 방향으로 계산\n",
    "# axis= 1 열 방향을 계산\n",
    "# axis= 2 깂이 방향으로 계산산\n",
    "nd1 = np.arange(24).reshape(2,3,4) # 3행 4열 \n",
    "print(nd1)"
   ]
  },
  {
   "cell_type": "code",
   "execution_count": 41,
   "id": "0d8ce61f",
   "metadata": {},
   "outputs": [
    {
     "data": {
      "text/plain": [
       "array([[12, 14, 16, 18],\n",
       "       [20, 22, 24, 26],\n",
       "       [28, 30, 32, 34]])"
      ]
     },
     "execution_count": 41,
     "metadata": {},
     "output_type": "execute_result"
    }
   ],
   "source": [
    "nd1.sum(axis=0)"
   ]
  },
  {
   "cell_type": "code",
   "execution_count": 42,
   "id": "da17e584",
   "metadata": {},
   "outputs": [
    {
     "data": {
      "text/plain": [
       "array([[12, 15, 18, 21],\n",
       "       [48, 51, 54, 57]])"
      ]
     },
     "execution_count": 42,
     "metadata": {},
     "output_type": "execute_result"
    }
   ],
   "source": [
    "nd1.sum(axis=1)"
   ]
  },
  {
   "cell_type": "code",
   "execution_count": 43,
   "id": "b7be5c65",
   "metadata": {},
   "outputs": [
    {
     "data": {
      "text/plain": [
       "array([[ 6, 22, 38],\n",
       "       [54, 70, 86]])"
      ]
     },
     "execution_count": 43,
     "metadata": {},
     "output_type": "execute_result"
    }
   ],
   "source": [
    "nd1.sum(axis=2)"
   ]
  },
  {
   "cell_type": "code",
   "execution_count": 44,
   "id": "9067c067",
   "metadata": {},
   "outputs": [
    {
     "data": {
      "text/plain": [
       "array([10., 11., 12., 13.])"
      ]
     },
     "execution_count": 44,
     "metadata": {},
     "output_type": "execute_result"
    }
   ],
   "source": [
    "nd1.mean(axis=(0,1)) # 0축 1축 없애고 전체 계산"
   ]
  },
  {
   "cell_type": "code",
   "execution_count": 45,
   "id": "9ffaf114",
   "metadata": {},
   "outputs": [
    {
     "data": {
      "text/plain": [
       "array([[[ 0,  1,  2,  3],\n",
       "        [ 4,  5,  6,  7],\n",
       "        [ 8,  9, 10, 11]],\n",
       "\n",
       "       [[12, 13, 14, 15],\n",
       "        [16, 17, 18, 19],\n",
       "        [20, 21, 22, 23]]])"
      ]
     },
     "execution_count": 45,
     "metadata": {},
     "output_type": "execute_result"
    }
   ],
   "source": [
    "nd1"
   ]
  },
  {
   "cell_type": "code",
   "execution_count": 46,
   "id": "81e44964",
   "metadata": {},
   "outputs": [
    {
     "name": "stdout",
     "output_type": "stream",
     "text": [
      "[[[0 0 0 0]\n",
      "  [0 0 0 0]\n",
      "  [0 0 0 0]]\n",
      "\n",
      " [[0 0 0 0]\n",
      "  [0 0 0 0]\n",
      "  [0 0 0 0]]]\n"
     ]
    }
   ],
   "source": [
    "nd2 = np.zeros_like(nd1) #  n1과 똑같은 모형과 자료형을 가진 배열로 만들고 그 값을 0으로 채움\n",
    "print(nd2)"
   ]
  },
  {
   "cell_type": "code",
   "execution_count": 47,
   "id": "abd7cc3a",
   "metadata": {},
   "outputs": [
    {
     "name": "stdout",
     "output_type": "stream",
     "text": [
      "[[[1 1 1 1]\n",
      "  [1 1 1 1]\n",
      "  [1 1 1 1]]\n",
      "\n",
      " [[1 1 1 1]\n",
      "  [1 1 1 1]\n",
      "  [1 1 1 1]]]\n"
     ]
    }
   ],
   "source": [
    "nd2 = np.ones_like(nd1) # n1과 똑같은 모형과 자료형을 가진 배열로 만들고 그 값을 1로 채움\n",
    "print(nd2)"
   ]
  },
  {
   "cell_type": "code",
   "execution_count": 48,
   "id": "b959a8ec",
   "metadata": {},
   "outputs": [
    {
     "name": "stdout",
     "output_type": "stream",
     "text": [
      "[0. 1. 2. 3. 4. 5. 6. 7. 8. 9.] (10,) float16\n"
     ]
    }
   ],
   "source": [
    "lst = list(range(10))\n",
    "nd1 = np.asarray(lst).astype(np.float16) # 리스트를 넘파이 배열로 바꾸고 배열 안의 자료형을 float16으로 변환한다\n",
    "print(nd1, nd1.shape, nd1.dtype)"
   ]
  },
  {
   "cell_type": "code",
   "execution_count": 49,
   "id": "c5bed9a5",
   "metadata": {},
   "outputs": [
    {
     "name": "stdout",
     "output_type": "stream",
     "text": [
      "[[[ 1  1  1 10]\n",
      "  [ 1  1  1  1]\n",
      "  [ 1  1  1  1]]\n",
      "\n",
      " [[ 1  1  1  1]\n",
      "  [ 1  1  1  1]\n",
      "  [ 1  1  1  1]]]\n"
     ]
    }
   ],
   "source": [
    "nd2[0,0,3] = 10\n",
    "print(nd2)"
   ]
  },
  {
   "cell_type": "code",
   "execution_count": 51,
   "id": "91b52055",
   "metadata": {},
   "outputs": [
    {
     "name": "stdout",
     "output_type": "stream",
     "text": [
      "[[[  1   1   1  10]\n",
      "  [  1   1   1   1]\n",
      "  [  1   1   1   1]]\n",
      "\n",
      " [[  1   1   1   1]\n",
      "  [  1   1 100 100]\n",
      "  [  1   1 100 100]]]\n"
     ]
    }
   ],
   "source": [
    "# 1, 1, 2\n",
    "# 1, 2, 3\n",
    "# 1, 1:3, 2:4\n",
    "nd2[1,1:3,2:4] = 100\n",
    "print(nd2)"
   ]
  },
  {
   "cell_type": "code",
   "execution_count": 52,
   "id": "43fd0911",
   "metadata": {},
   "outputs": [
    {
     "name": "stdout",
     "output_type": "stream",
     "text": [
      "[[ 0  1  2  3]\n",
      " [ 4  5  6  7]\n",
      " [ 8  9 10 11]]\n",
      "[[ 0  1  2  3]\n",
      " [ 4  5  6  7]\n",
      " [ 8  9 10 11]]\n",
      "[[  0   1   2   3]\n",
      " [  4   5   6   7]\n",
      " [  8   9  10 100]]\n",
      "[[  0   1   2   3]\n",
      " [  4   5   6   7]\n",
      " [  8   9  10 100]]\n"
     ]
    }
   ],
   "source": [
    "nd1 = np.arange(12).reshape(3,4)\n",
    "print(nd1)\n",
    "nd2 = nd1\n",
    "print(nd2)\n",
    "nd1[nd1>10] = 100\n",
    "print(nd1)\n",
    "print(nd2)"
   ]
  }
 ],
 "metadata": {
  "kernelspec": {
   "display_name": "Python 3",
   "language": "python",
   "name": "python3"
  },
  "language_info": {
   "codemirror_mode": {
    "name": "ipython",
    "version": 3
   },
   "file_extension": ".py",
   "mimetype": "text/x-python",
   "name": "python",
   "nbconvert_exporter": "python",
   "pygments_lexer": "ipython3",
   "version": "3.11.9"
  }
 },
 "nbformat": 4,
 "nbformat_minor": 5
}
