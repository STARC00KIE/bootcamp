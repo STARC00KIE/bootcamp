{
  "cells": [
    {
      "cell_type": "markdown",
      "source": [
        "# [04/28] 파이썬 1일차 실습예제"
      ],
      "metadata": {
        "id": "y1ma6QfAEjdB"
      },
      "id": "y1ma6QfAEjdB"
    },
    {
      "cell_type": "code",
      "source": [
        "1+1"
      ],
      "metadata": {
        "id": "Iu4QN0tEDvL5",
        "outputId": "ff5d00ce-e589-4cf0-888a-4dde6baaa3ca",
        "colab": {
          "base_uri": "https://localhost:8080/"
        }
      },
      "id": "Iu4QN0tEDvL5",
      "execution_count": 1,
      "outputs": [
        {
          "output_type": "execute_result",
          "data": {
            "text/plain": [
              "2"
            ]
          },
          "metadata": {},
          "execution_count": 1
        }
      ]
    },
    {
      "cell_type": "code",
      "source": [
        "a = 10"
      ],
      "metadata": {
        "id": "qYa0eAC3EtsB"
      },
      "id": "qYa0eAC3EtsB",
      "execution_count": 3,
      "outputs": []
    },
    {
      "cell_type": "code",
      "source": [
        "print(a)"
      ],
      "metadata": {
        "id": "TUHVYu-nEvyw",
        "outputId": "203c07de-0084-41e7-96e3-49810dc9b47e",
        "colab": {
          "base_uri": "https://localhost:8080/"
        }
      },
      "id": "TUHVYu-nEvyw",
      "execution_count": 5,
      "outputs": [
        {
          "output_type": "stream",
          "name": "stdout",
          "text": [
            "10\n"
          ]
        }
      ]
    },
    {
      "cell_type": "code",
      "source": [
        "a = 100"
      ],
      "metadata": {
        "id": "t-fabrzcEyeR"
      },
      "id": "t-fabrzcEyeR",
      "execution_count": 6,
      "outputs": []
    },
    {
      "cell_type": "code",
      "source": [
        "if a > 10:\n",
        "    print(a)\n",
        "    print(a+1)\n",
        "print(\"done\")"
      ],
      "metadata": {
        "id": "NMJaKB63E1BA",
        "outputId": "b4d75347-f78d-4315-deac-35f63865fd05",
        "colab": {
          "base_uri": "https://localhost:8080/"
        }
      },
      "id": "NMJaKB63E1BA",
      "execution_count": 10,
      "outputs": [
        {
          "output_type": "stream",
          "name": "stdout",
          "text": [
            "100\n",
            "101\n",
            "done\n"
          ]
        }
      ]
    },
    {
      "cell_type": "code",
      "source": [],
      "metadata": {
        "id": "SrwDzTs-KNru"
      },
      "id": "SrwDzTs-KNru",
      "execution_count": null,
      "outputs": []
    }
  ],
  "metadata": {
    "language_info": {
      "name": "python"
    },
    "colab": {
      "provenance": []
    },
    "kernelspec": {
      "name": "python3",
      "display_name": "Python 3"
    }
  },
  "nbformat": 4,
  "nbformat_minor": 5
}