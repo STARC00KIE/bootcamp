{
  "cells": [
    {
      "cell_type": "markdown",
      "id": "y1ma6QfAEjdB",
      "metadata": {
        "id": "y1ma6QfAEjdB"
      },
      "source": [
        "# [04/28] 파이썬 1일차 실습예제"
      ]
    },
    {
      "cell_type": "code",
      "execution_count": 108,
      "id": "Iu4QN0tEDvL5",
      "metadata": {
        "colab": {
          "base_uri": "https://localhost:8080/"
        },
        "id": "Iu4QN0tEDvL5",
        "outputId": "1de13e42-722a-42c0-dfd9-331b859259d8"
      },
      "outputs": [
        {
          "data": {
            "text/plain": [
              "2"
            ]
          },
          "execution_count": 108,
          "metadata": {},
          "output_type": "execute_result"
        }
      ],
      "source": [
        "1+1"
      ]
    },
    {
      "cell_type": "code",
      "execution_count": 109,
      "id": "qYa0eAC3EtsB",
      "metadata": {
        "id": "qYa0eAC3EtsB"
      },
      "outputs": [],
      "source": [
        "a = 10"
      ]
    },
    {
      "cell_type": "code",
      "execution_count": 110,
      "id": "TUHVYu-nEvyw",
      "metadata": {
        "colab": {
          "base_uri": "https://localhost:8080/"
        },
        "id": "TUHVYu-nEvyw",
        "outputId": "594176aa-f423-4156-cd7a-cee2c7dd8b31"
      },
      "outputs": [
        {
          "name": "stdout",
          "output_type": "stream",
          "text": [
            "10\n"
          ]
        }
      ],
      "source": [
        "print(a)"
      ]
    },
    {
      "cell_type": "code",
      "execution_count": 111,
      "id": "t-fabrzcEyeR",
      "metadata": {
        "id": "t-fabrzcEyeR"
      },
      "outputs": [],
      "source": [
        "a = 100"
      ]
    },
    {
      "cell_type": "code",
      "execution_count": 112,
      "id": "NMJaKB63E1BA",
      "metadata": {
        "colab": {
          "base_uri": "https://localhost:8080/"
        },
        "id": "NMJaKB63E1BA",
        "outputId": "2b3931af-6fe2-4408-a630-97e77b530327"
      },
      "outputs": [
        {
          "name": "stdout",
          "output_type": "stream",
          "text": [
            "100\n",
            "101\n",
            "done\n"
          ]
        }
      ],
      "source": [
        "if a > 10:\n",
        "    print(a)\n",
        "    print(a+1)\n",
        "print(\"done\")"
      ]
    },
    {
      "cell_type": "code",
      "execution_count": 113,
      "id": "SrwDzTs-KNru",
      "metadata": {
        "colab": {
          "base_uri": "https://localhost:8080/"
        },
        "id": "SrwDzTs-KNru",
        "outputId": "2d5dca4d-4aa2-4b29-b2b9-d18008f15b35"
      },
      "outputs": [
        {
          "name": "stdout",
          "output_type": "stream",
          "text": [
            "10\n",
            "20\n",
            "30\n",
            "1\n",
            "2\n",
            "10\n",
            "20\n",
            "30\n",
            "3\n",
            "done\n"
          ]
        }
      ],
      "source": [
        "for a in [1, 2, 3]:\n",
        "    for b in [10, 20, 30]:\n",
        "        if a != 2:\n",
        "            print(b)\n",
        "    print(a)\n",
        "print(\"done\")"
      ]
    },
    {
      "cell_type": "code",
      "execution_count": 114,
      "id": "ff67AvPUyiWG",
      "metadata": {
        "colab": {
          "base_uri": "https://localhost:8080/"
        },
        "id": "ff67AvPUyiWG",
        "outputId": "285d91f7-abd7-40fd-bbad-88742359c4d9"
      },
      "outputs": [
        {
          "name": "stdout",
          "output_type": "stream",
          "text": [
            "20\n",
            "30\n",
            "1\n",
            "10\n",
            "30\n",
            "2\n",
            "10\n",
            "20\n",
            "3\n",
            "done\n"
          ]
        }
      ],
      "source": [
        "for a in [1, 2, 3]:\n",
        "    for b in [10, 20, 30]:\n",
        "        if (a == 1 and b != 10) or (a == 2 and b != 20) or (a == 3 and b != 30):\n",
        "            print(b)\n",
        "    print(a)\n",
        "print(\"done\")"
      ]
    },
    {
      "cell_type": "code",
      "execution_count": 115,
      "id": "Jc0m6aip1zEe",
      "metadata": {
        "colab": {
          "base_uri": "https://localhost:8080/"
        },
        "id": "Jc0m6aip1zEe",
        "outputId": "57c94c0e-e114-4660-ef0f-c281e3ff5316"
      },
      "outputs": [
        {
          "name": "stdout",
          "output_type": "stream",
          "text": [
            "20\n",
            "30\n",
            "1\n",
            "10\n",
            "30\n",
            "2\n",
            "10\n",
            "20\n",
            "3\n",
            "done\n"
          ]
        }
      ],
      "source": [
        "# 위의 코드랑 같음\n",
        "for a in [1, 2, 3]:\n",
        "    for b in [10, 20, 30]:\n",
        "        if a*10 != b:\n",
        "            print(b)\n",
        "    print(a)\n",
        "print(\"done\")"
      ]
    },
    {
      "cell_type": "code",
      "execution_count": 116,
      "id": "5iED7ks23dIM",
      "metadata": {
        "colab": {
          "base_uri": "https://localhost:8080/"
        },
        "id": "5iED7ks23dIM",
        "outputId": "13b825c5-c21a-4ce1-c72d-5c0d4959e2c0"
      },
      "outputs": [
        {
          "name": "stdout",
          "output_type": "stream",
          "text": [
            "0\n",
            "0\n",
            "0\n",
            "0\n",
            "0\n",
            "0\n",
            "done\n"
          ]
        }
      ],
      "source": [
        "i, a = 0, 0\n",
        "\n",
        "while True:\n",
        "    print(a)\n",
        "    if i < 5:\n",
        "        i += 1 # i = i+1\n",
        "    else:\n",
        "        break\n",
        "\n",
        "print(\"done\")"
      ]
    },
    {
      "cell_type": "code",
      "execution_count": 117,
      "id": "4WKBZZc944IE",
      "metadata": {
        "colab": {
          "base_uri": "https://localhost:8080/"
        },
        "id": "4WKBZZc944IE",
        "outputId": "2fb5f03b-59ff-479e-942b-927945977e01"
      },
      "outputs": [
        {
          "name": "stdout",
          "output_type": "stream",
          "text": [
            "0\n",
            "0\n",
            "0\n",
            "0\n",
            "0\n",
            "done\n"
          ]
        }
      ],
      "source": [
        "i, a = 0, 0\n",
        "\n",
        "while i < 5:\n",
        "    print(a)\n",
        "    i += 1\n",
        "\n",
        "print(\"done\")"
      ]
    },
    {
      "cell_type": "code",
      "execution_count": 118,
      "id": "cdax6ikk58Lz",
      "metadata": {
        "colab": {
          "base_uri": "https://localhost:8080/"
        },
        "id": "cdax6ikk58Lz",
        "outputId": "f1ffd688-c56a-4191-a4a6-55c458771ba9"
      },
      "outputs": [
        {
          "name": "stdout",
          "output_type": "stream",
          "text": [
            "1,2,2,3,3,3,4,4,4,4\n"
          ]
        }
      ],
      "source": [
        "# 1,2,2,3,3,3,4,4,4,4 -> 출력물이 이렇게 똑같이 나오게\n",
        "# 빈 리스트 생성\n",
        "lst = []\n",
        "\n",
        "# 숫자 만큼 순회하여 리스트에 저장\n",
        "for i in range(1,5):\n",
        "    for j in range(i):\n",
        "        lst.append(i)\n",
        "\n",
        "# 리스트 문자열로 만들고 공백 제거\n",
        "answer = str(lst).replace(\" \", \"\")\n",
        "\n",
        "# 문자열 슬라이싱 및 출력\n",
        "print(answer[1:-1])"
      ]
    },
    {
      "cell_type": "code",
      "execution_count": 119,
      "id": "ifsbZFVCEbIX",
      "metadata": {
        "colab": {
          "base_uri": "https://localhost:8080/"
        },
        "id": "ifsbZFVCEbIX",
        "outputId": "28f3a346-391b-4bcc-e075-c8e818b8660e"
      },
      "outputs": [
        {
          "name": "stdout",
          "output_type": "stream",
          "text": [
            "1\n",
            "3\n",
            "4\n",
            "5\n",
            "6\n",
            "7\n",
            "4\n",
            "3\n",
            "5\n",
            "7\n",
            "7\n"
          ]
        }
      ],
      "source": [
        "lst1 = [1, 3, 4, 5, 6, 7, 4, 3, 5, 7, 7]\n",
        "for i in lst1:\n",
        "    print(i)"
      ]
    },
    {
      "cell_type": "code",
      "execution_count": 120,
      "id": "bcavDj6XF_6M",
      "metadata": {
        "colab": {
          "base_uri": "https://localhost:8080/"
        },
        "id": "bcavDj6XF_6M",
        "outputId": "ac06438b-125b-4fd7-fc70-050d553a5c4b"
      },
      "outputs": [
        {
          "name": "stdout",
          "output_type": "stream",
          "text": [
            "1\n"
          ]
        }
      ],
      "source": [
        "print(lst1[0])"
      ]
    },
    {
      "cell_type": "code",
      "execution_count": 121,
      "id": "9govTa4oGgKF",
      "metadata": {
        "colab": {
          "base_uri": "https://localhost:8080/"
        },
        "id": "9govTa4oGgKF",
        "outputId": "43401f66-2c72-49f6-afd9-dada9a952f5d"
      },
      "outputs": [
        {
          "name": "stdout",
          "output_type": "stream",
          "text": [
            "[4, 5, 6, 7]\n"
          ]
        }
      ],
      "source": [
        "print(lst1[2:6])"
      ]
    },
    {
      "cell_type": "code",
      "execution_count": 122,
      "id": "0uWVRFbAIJF0",
      "metadata": {
        "colab": {
          "base_uri": "https://localhost:8080/"
        },
        "id": "0uWVRFbAIJF0",
        "outputId": "73a555b7-a02a-4813-cec8-b147144707b0"
      },
      "outputs": [
        {
          "name": "stdout",
          "output_type": "stream",
          "text": [
            "[4, 3, 5, 7, 7]\n"
          ]
        }
      ],
      "source": [
        "print(lst1[-5:])"
      ]
    },
    {
      "cell_type": "code",
      "execution_count": 123,
      "id": "2FdnyOvCIMn7",
      "metadata": {
        "colab": {
          "base_uri": "https://localhost:8080/"
        },
        "id": "2FdnyOvCIMn7",
        "outputId": "7a8075e2-fca2-4a16-e6c4-2aed8b600ad9"
      },
      "outputs": [
        {
          "name": "stdout",
          "output_type": "stream",
          "text": [
            "[1, 3, 4, 5, 6, 7, 4, 3, 5, 7, 7]\n"
          ]
        }
      ],
      "source": [
        "print(lst1[:])"
      ]
    },
    {
      "cell_type": "code",
      "execution_count": 124,
      "id": "NpJPgOdkIXe1",
      "metadata": {
        "colab": {
          "base_uri": "https://localhost:8080/"
        },
        "id": "NpJPgOdkIXe1",
        "outputId": "d2bb3c9a-4c1e-43a8-9f6d-614260353829"
      },
      "outputs": [
        {
          "name": "stdout",
          "output_type": "stream",
          "text": [
            "[1, 4, 6, 4, 5, 7]\n"
          ]
        }
      ],
      "source": [
        "print(lst1[::2])"
      ]
    },
    {
      "cell_type": "code",
      "execution_count": 125,
      "id": "672O53SaIyOb",
      "metadata": {
        "colab": {
          "base_uri": "https://localhost:8080/"
        },
        "id": "672O53SaIyOb",
        "outputId": "c128754a-43dd-44c0-ab4c-ed7c85c0b6b1"
      },
      "outputs": [
        {
          "name": "stdout",
          "output_type": "stream",
          "text": [
            "[7, 7, 5, 3, 4, 7, 6, 5, 4, 3, 1]\n"
          ]
        }
      ],
      "source": [
        "print(lst1[::-1])"
      ]
    },
    {
      "cell_type": "markdown",
      "id": "OWMTV_wRMxDh",
      "metadata": {
        "id": "OWMTV_wRMxDh"
      },
      "source": [
        "# 수업 자료 링크\n",
        "https://drive.google.com/drive/folders/1eyYGTVkzLIArhnv5OrNoJcCJJmkTbz2f"
      ]
    },
    {
      "cell_type": "code",
      "execution_count": 126,
      "id": "sjhogfY5M0Wo",
      "metadata": {
        "colab": {
          "base_uri": "https://localhost:8080/"
        },
        "id": "sjhogfY5M0Wo",
        "outputId": "e759132e-5595-4eb1-da5b-5c5bca82c139"
      },
      "outputs": [
        {
          "name": "stdout",
          "output_type": "stream",
          "text": [
            "[7, 5, 4, 6, 4, 1]\n"
          ]
        }
      ],
      "source": [
        "print(lst1[::-2])"
      ]
    },
    {
      "cell_type": "code",
      "execution_count": 127,
      "id": "Ddj2SALnRA2g",
      "metadata": {
        "colab": {
          "base_uri": "https://localhost:8080/"
        },
        "id": "Ddj2SALnRA2g",
        "outputId": "f19b99a4-7967-4e31-d2ac-55d75c961e59"
      },
      "outputs": [
        {
          "name": "stdout",
          "output_type": "stream",
          "text": [
            "[1, 3, 4, 5, 6, 7, 4, 3, 5, 7, 7, 10]\n"
          ]
        }
      ],
      "source": [
        "lst1.append(10)\n",
        "print(lst1)"
      ]
    },
    {
      "cell_type": "code",
      "execution_count": 128,
      "id": "6nxdnvIGRCmW",
      "metadata": {
        "colab": {
          "base_uri": "https://localhost:8080/"
        },
        "id": "6nxdnvIGRCmW",
        "outputId": "be895117-afb6-4e3a-a895-205e7c6405a2"
      },
      "outputs": [
        {
          "name": "stdout",
          "output_type": "stream",
          "text": [
            "[1, 3, 4, 5, 6, 7, 4, 3, 5, 7, 7, 10, 11, 12, 13, 14, 15]\n"
          ]
        }
      ],
      "source": [
        "lst2 = [11, 12, 13, 14, 15]\n",
        "lst1.extend(lst2)\n",
        "print(lst1)"
      ]
    },
    {
      "cell_type": "code",
      "execution_count": 129,
      "id": "kZvHd8AVRPL-",
      "metadata": {
        "colab": {
          "base_uri": "https://localhost:8080/"
        },
        "id": "kZvHd8AVRPL-",
        "outputId": "f7a8bfc4-7e8f-424f-eafa-a3bf8602c287"
      },
      "outputs": [
        {
          "name": "stdout",
          "output_type": "stream",
          "text": [
            "3\n"
          ]
        }
      ],
      "source": [
        "print(lst1.count(7))"
      ]
    },
    {
      "cell_type": "code",
      "execution_count": 130,
      "id": "YgPAuO9iRSqm",
      "metadata": {
        "colab": {
          "base_uri": "https://localhost:8080/"
        },
        "id": "YgPAuO9iRSqm",
        "outputId": "119052d3-bbfa-4575-8e76-f7b031153610"
      },
      "outputs": [
        {
          "name": "stdout",
          "output_type": "stream",
          "text": [
            "1\n"
          ]
        }
      ],
      "source": [
        "print(lst1[0:8].count(7)) # count 함수는 인자를 1개만 받을 수 있음"
      ]
    },
    {
      "cell_type": "code",
      "execution_count": 131,
      "id": "KxbHVkZJSw_-",
      "metadata": {
        "colab": {
          "base_uri": "https://localhost:8080/"
        },
        "id": "KxbHVkZJSw_-",
        "outputId": "2f4dd9fc-8b00-4095-e755-77a3b53a1ffe"
      },
      "outputs": [
        {
          "name": "stdout",
          "output_type": "stream",
          "text": [
            "[10, 1, 3, 4, 5, 6, 7, 4, 3, 5, 7, 7, 10, 11, 12, 13, 14, 15]\n"
          ]
        }
      ],
      "source": [
        "lst1.insert(0, 10)\n",
        "print(lst1)"
      ]
    },
    {
      "cell_type": "code",
      "execution_count": 132,
      "id": "tl_bkVgFTGt3",
      "metadata": {
        "colab": {
          "base_uri": "https://localhost:8080/"
        },
        "id": "tl_bkVgFTGt3",
        "outputId": "765193be-ab88-415c-aac7-5814d51e1a2b"
      },
      "outputs": [
        {
          "name": "stdout",
          "output_type": "stream",
          "text": [
            "[1, 3, 4, 5, 6, 7, 4, 3, 5, 7, 7, 10, 11, 12, 13, 14, 15]\n"
          ]
        }
      ],
      "source": [
        "lst1.remove(10)\n",
        "print(lst1)"
      ]
    },
    {
      "cell_type": "code",
      "execution_count": 133,
      "id": "C5nMWortTQQ_",
      "metadata": {
        "colab": {
          "base_uri": "https://localhost:8080/"
        },
        "id": "C5nMWortTQQ_",
        "outputId": "8af72feb-8c60-456c-e8dc-53eff38a7278"
      },
      "outputs": [
        {
          "name": "stdout",
          "output_type": "stream",
          "text": [
            "[3, 4, 5, 6, 7, 4, 3, 5, 7, 7, 10, 11, 12, 13, 14, 15]\n"
          ]
        }
      ],
      "source": [
        "lst1.pop(0)\n",
        "print(lst1)"
      ]
    },
    {
      "cell_type": "code",
      "execution_count": 136,
      "id": "BB1ixMs9TdJw",
      "metadata": {
        "colab": {
          "base_uri": "https://localhost:8080/"
        },
        "id": "BB1ixMs9TdJw",
        "outputId": "b339eba0-5ea4-4af4-eee5-a7a44dead159"
      },
      "outputs": [
        {
          "name": "stdout",
          "output_type": "stream",
          "text": [
            "[3, 4, 5, 6, 7, 4, 3, 5, 7, 7, 10, 11, 12, 13, 14, 15]\n"
          ]
        }
      ],
      "source": [
        "lst1.reverse()\n",
        "print(lst1)"
      ]
    },
    {
      "cell_type": "code",
      "execution_count": 138,
      "id": "vmDkpnKoTiWl",
      "metadata": {
        "colab": {
          "base_uri": "https://localhost:8080/"
        },
        "id": "vmDkpnKoTiWl",
        "outputId": "3f5fb54c-28f8-4d5d-9acc-dac0019cc41f"
      },
      "outputs": [
        {
          "name": "stdout",
          "output_type": "stream",
          "text": [
            "[3, 3, 4, 4, 5, 5, 6, 7, 7, 7, 10, 11, 12, 13, 14, 15]\n"
          ]
        }
      ],
      "source": [
        "lst1.sort()\n",
        "print(lst1)"
      ]
    },
    {
      "cell_type": "code",
      "execution_count": 141,
      "id": "AXFDI3UpTx3l",
      "metadata": {
        "colab": {
          "base_uri": "https://localhost:8080/"
        },
        "id": "AXFDI3UpTx3l",
        "outputId": "6e3a01c0-be5c-4464-f4b7-2cd38f6db142"
      },
      "outputs": [
        {
          "name": "stdout",
          "output_type": "stream",
          "text": [
            "[15, 14, 13, 12, 11, 10, 7, 7, 7, 6, 5, 5, 4, 4, 3, 3]\n"
          ]
        }
      ],
      "source": [
        "\"\"\"\n",
        "sort 인자에 key=len -> 이건 문자열만 들어 있는 리스트에서 사용할 수 있음\n",
        "글자 수를 기준으로 하여 정렬 진행하고 리스트 업데이트\n",
        "\"\"\"\n",
        "\n",
        "lst1.sort(reverse=True)\n",
        "print(lst1)"
      ]
    }
  ],
  "metadata": {
    "colab": {
      "provenance": []
    },
    "kernelspec": {
      "display_name": "Python 3",
      "name": "python3"
    },
    "language_info": {
      "name": "python"
    }
  },
  "nbformat": 4,
  "nbformat_minor": 5
}
