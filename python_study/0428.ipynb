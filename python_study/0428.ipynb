{
  "cells": [
    {
      "cell_type": "markdown",
      "source": [
        "# [04/28] 파이썬 1일차 실습예제"
      ],
      "metadata": {
        "id": "y1ma6QfAEjdB"
      },
      "id": "y1ma6QfAEjdB"
    },
    {
      "cell_type": "code",
      "source": [
        "1+1"
      ],
      "metadata": {
        "id": "Iu4QN0tEDvL5",
        "outputId": "ff5d00ce-e589-4cf0-888a-4dde6baaa3ca",
        "colab": {
          "base_uri": "https://localhost:8080/"
        }
      },
      "id": "Iu4QN0tEDvL5",
      "execution_count": null,
      "outputs": [
        {
          "output_type": "execute_result",
          "data": {
            "text/plain": [
              "2"
            ]
          },
          "metadata": {},
          "execution_count": 1
        }
      ]
    },
    {
      "cell_type": "code",
      "source": [
        "a = 10"
      ],
      "metadata": {
        "id": "qYa0eAC3EtsB"
      },
      "id": "qYa0eAC3EtsB",
      "execution_count": null,
      "outputs": []
    },
    {
      "cell_type": "code",
      "source": [
        "print(a)"
      ],
      "metadata": {
        "id": "TUHVYu-nEvyw",
        "outputId": "203c07de-0084-41e7-96e3-49810dc9b47e",
        "colab": {
          "base_uri": "https://localhost:8080/"
        }
      },
      "id": "TUHVYu-nEvyw",
      "execution_count": null,
      "outputs": [
        {
          "output_type": "stream",
          "name": "stdout",
          "text": [
            "10\n"
          ]
        }
      ]
    },
    {
      "cell_type": "code",
      "source": [
        "a = 100"
      ],
      "metadata": {
        "id": "t-fabrzcEyeR"
      },
      "id": "t-fabrzcEyeR",
      "execution_count": null,
      "outputs": []
    },
    {
      "cell_type": "code",
      "source": [
        "if a > 10:\n",
        "    print(a)\n",
        "    print(a+1)\n",
        "print(\"done\")"
      ],
      "metadata": {
        "id": "NMJaKB63E1BA",
        "outputId": "b5262c91-89dc-4a22-8dad-372794832548",
        "colab": {
          "base_uri": "https://localhost:8080/"
        }
      },
      "id": "NMJaKB63E1BA",
      "execution_count": 18,
      "outputs": [
        {
          "output_type": "stream",
          "name": "stdout",
          "text": [
            "done\n"
          ]
        }
      ]
    },
    {
      "cell_type": "code",
      "source": [
        "for a in [1, 2, 3]:\n",
        "    for b in [10, 20, 30]:\n",
        "        print(b)\n",
        "    print(a)\n",
        "print(\"done\")"
      ],
      "metadata": {
        "id": "SrwDzTs-KNru",
        "outputId": "b0c67703-fff1-42a1-8c7c-c85e9f8516dd",
        "colab": {
          "base_uri": "https://localhost:8080/"
        }
      },
      "id": "SrwDzTs-KNru",
      "execution_count": 19,
      "outputs": [
        {
          "output_type": "stream",
          "name": "stdout",
          "text": [
            "10\n",
            "20\n",
            "30\n",
            "1\n",
            "10\n",
            "20\n",
            "30\n",
            "2\n",
            "10\n",
            "20\n",
            "30\n",
            "3\n",
            "done\n"
          ]
        }
      ]
    }
  ],
  "metadata": {
    "language_info": {
      "name": "python"
    },
    "colab": {
      "provenance": []
    },
    "kernelspec": {
      "name": "python3",
      "display_name": "Python 3"
    }
  },
  "nbformat": 4,
  "nbformat_minor": 5
}