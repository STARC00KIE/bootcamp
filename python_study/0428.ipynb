{
  "cells": [
    {
      "cell_type": "markdown",
      "source": [
        "# [04/28] 파이썬 1일차 실습예제"
      ],
      "metadata": {
        "id": "y1ma6QfAEjdB"
      },
      "id": "y1ma6QfAEjdB"
    },
    {
      "cell_type": "code",
      "source": [
        "1+1"
      ],
      "metadata": {
        "id": "Iu4QN0tEDvL5",
        "outputId": "ff5d00ce-e589-4cf0-888a-4dde6baaa3ca",
        "colab": {
          "base_uri": "https://localhost:8080/"
        }
      },
      "id": "Iu4QN0tEDvL5",
      "execution_count": null,
      "outputs": [
        {
          "output_type": "execute_result",
          "data": {
            "text/plain": [
              "2"
            ]
          },
          "metadata": {},
          "execution_count": 1
        }
      ]
    },
    {
      "cell_type": "code",
      "source": [
        "a = 10"
      ],
      "metadata": {
        "id": "qYa0eAC3EtsB"
      },
      "id": "qYa0eAC3EtsB",
      "execution_count": null,
      "outputs": []
    },
    {
      "cell_type": "code",
      "source": [
        "print(a)"
      ],
      "metadata": {
        "id": "TUHVYu-nEvyw",
        "outputId": "203c07de-0084-41e7-96e3-49810dc9b47e",
        "colab": {
          "base_uri": "https://localhost:8080/"
        }
      },
      "id": "TUHVYu-nEvyw",
      "execution_count": null,
      "outputs": [
        {
          "output_type": "stream",
          "name": "stdout",
          "text": [
            "10\n"
          ]
        }
      ]
    },
    {
      "cell_type": "code",
      "source": [
        "a = 100"
      ],
      "metadata": {
        "id": "t-fabrzcEyeR"
      },
      "id": "t-fabrzcEyeR",
      "execution_count": null,
      "outputs": []
    },
    {
      "cell_type": "code",
      "source": [
        "if a > 10:\n",
        "    print(a)\n",
        "    print(a+1)\n",
        "print(\"done\")"
      ],
      "metadata": {
        "id": "NMJaKB63E1BA",
        "outputId": "b5262c91-89dc-4a22-8dad-372794832548",
        "colab": {
          "base_uri": "https://localhost:8080/"
        }
      },
      "id": "NMJaKB63E1BA",
      "execution_count": 18,
      "outputs": [
        {
          "output_type": "stream",
          "name": "stdout",
          "text": [
            "done\n"
          ]
        }
      ]
    },
    {
      "cell_type": "code",
      "source": [
        "for a in [1, 2, 3]:\n",
        "    for b in [10, 20, 30]:\n",
        "        if a != 2:\n",
        "            print(b)\n",
        "    print(a)\n",
        "print(\"done\")"
      ],
      "metadata": {
        "id": "SrwDzTs-KNru",
        "colab": {
          "base_uri": "https://localhost:8080/"
        },
        "outputId": "7017e1af-d702-447f-c47f-f6a27d15a7e6"
      },
      "id": "SrwDzTs-KNru",
      "execution_count": 20,
      "outputs": [
        {
          "output_type": "stream",
          "name": "stdout",
          "text": [
            "10\n",
            "20\n",
            "30\n",
            "1\n",
            "2\n",
            "10\n",
            "20\n",
            "30\n",
            "3\n",
            "done\n"
          ]
        }
      ]
    },
    {
      "cell_type": "code",
      "source": [
        "for a in [1, 2, 3]:\n",
        "    for b in [10, 20, 30]:\n",
        "        if (a == 1 and b != 10) or (a == 2 and b != 20) or (a == 3 and b != 30):\n",
        "            print(b)\n",
        "    print(a)\n",
        "print(\"done\")"
      ],
      "metadata": {
        "colab": {
          "base_uri": "https://localhost:8080/"
        },
        "id": "ff67AvPUyiWG",
        "outputId": "1df7cc22-b4f1-4dfb-993e-b0eb2b28cd87"
      },
      "id": "ff67AvPUyiWG",
      "execution_count": 28,
      "outputs": [
        {
          "output_type": "stream",
          "name": "stdout",
          "text": [
            "20\n",
            "30\n",
            "1\n",
            "10\n",
            "30\n",
            "2\n",
            "10\n",
            "20\n",
            "3\n",
            "done\n"
          ]
        }
      ]
    },
    {
      "cell_type": "code",
      "source": [
        "# 위의 코드랑 같음\n",
        "for a in [1, 2, 3]:\n",
        "    for b in [10, 20, 30]:\n",
        "        if a*10 != b:\n",
        "            print(b)\n",
        "    print(a)\n",
        "print(\"done\")"
      ],
      "metadata": {
        "colab": {
          "base_uri": "https://localhost:8080/"
        },
        "id": "Jc0m6aip1zEe",
        "outputId": "10201191-6ae8-437b-9525-d6c56a485767"
      },
      "id": "Jc0m6aip1zEe",
      "execution_count": 29,
      "outputs": [
        {
          "output_type": "stream",
          "name": "stdout",
          "text": [
            "20\n",
            "30\n",
            "1\n",
            "10\n",
            "30\n",
            "2\n",
            "10\n",
            "20\n",
            "3\n",
            "done\n"
          ]
        }
      ]
    },
    {
      "cell_type": "code",
      "source": [
        "i, a = 0, 0\n",
        "\n",
        "while True:\n",
        "    print(a)\n",
        "    if i < 5:\n",
        "        i += 1 # i = i+1\n",
        "    else:\n",
        "        break\n",
        "\n",
        "print(\"done\")"
      ],
      "metadata": {
        "colab": {
          "base_uri": "https://localhost:8080/"
        },
        "id": "5iED7ks23dIM",
        "outputId": "24b235cc-3f8d-4261-cc85-d1870d56adcf"
      },
      "id": "5iED7ks23dIM",
      "execution_count": 35,
      "outputs": [
        {
          "output_type": "stream",
          "name": "stdout",
          "text": [
            "0\n",
            "0\n",
            "0\n",
            "0\n",
            "0\n",
            "0\n",
            "done\n"
          ]
        }
      ]
    },
    {
      "cell_type": "code",
      "source": [
        "i, a = 0, 0\n",
        "\n",
        "while i < 5:\n",
        "    print(a)\n",
        "    i += 1\n",
        "\n",
        "print(\"done\")"
      ],
      "metadata": {
        "colab": {
          "base_uri": "https://localhost:8080/"
        },
        "id": "4WKBZZc944IE",
        "outputId": "dbd4e898-8f6c-40b8-ac17-7f2a20081b03"
      },
      "id": "4WKBZZc944IE",
      "execution_count": 36,
      "outputs": [
        {
          "output_type": "stream",
          "name": "stdout",
          "text": [
            "0\n",
            "0\n",
            "0\n",
            "0\n",
            "0\n",
            "done\n"
          ]
        }
      ]
    },
    {
      "cell_type": "code",
      "source": [
        "# 1,2,2,3,3,3,4,4,4,4 -> 출력물이 이렇게 똑같이 나오게\n",
        "# 빈 리스트 생성\n",
        "lst = []\n",
        "\n",
        "# 숫자 만큼 순회하여 리스트에 저장\n",
        "for i in range(1,5):\n",
        "    for j in range(i):\n",
        "        lst.append(i)\n",
        "\n",
        "# 리스트 문자열로 만들고 공백 제거\n",
        "answer = str(lst).replace(\" \", \"\")\n",
        "\n",
        "# 문자열 슬라이싱 및 출력\n",
        "print(answer[1:-1])"
      ],
      "metadata": {
        "colab": {
          "base_uri": "https://localhost:8080/"
        },
        "id": "cdax6ikk58Lz",
        "outputId": "9a21fbcd-52df-4133-8215-c52f0f105dea"
      },
      "id": "cdax6ikk58Lz",
      "execution_count": 66,
      "outputs": [
        {
          "output_type": "stream",
          "name": "stdout",
          "text": [
            "1,2,2,3,3,3,4,4,4,4\n"
          ]
        }
      ]
    }
  ],
  "metadata": {
    "language_info": {
      "name": "python"
    },
    "colab": {
      "provenance": []
    },
    "kernelspec": {
      "name": "python3",
      "display_name": "Python 3"
    }
  },
  "nbformat": 4,
  "nbformat_minor": 5
}