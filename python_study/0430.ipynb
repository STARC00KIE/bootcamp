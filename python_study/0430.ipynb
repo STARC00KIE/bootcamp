{
 "cells": [
  {
   "cell_type": "markdown",
   "id": "fd30fbdf",
   "metadata": {},
   "source": [
    "# [04/30] 파이썬 3일차 실습예제"
   ]
  },
  {
   "cell_type": "code",
   "execution_count": null,
   "id": "51c44018",
   "metadata": {},
   "outputs": [],
   "source": []
  }
 ],
 "metadata": {
  "language_info": {
   "name": "python"
  }
 },
 "nbformat": 4,
 "nbformat_minor": 5
}
