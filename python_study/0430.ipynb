{
 "cells": [
  {
   "cell_type": "markdown",
   "id": "fd30fbdf",
   "metadata": {},
   "source": [
    "# [04/30] 파이썬 3일차 실습예제"
   ]
  },
  {
   "cell_type": "code",
   "execution_count": 1,
   "id": "f0b9067f",
   "metadata": {},
   "outputs": [
    {
     "name": "stdout",
     "output_type": "stream",
     "text": [
      "a\n"
     ]
    }
   ],
   "source": [
    "msg = \"abcdefg\"\n",
    "print(msg[0])"
   ]
  },
  {
   "cell_type": "code",
   "execution_count": 2,
   "id": "7a3c2ee8",
   "metadata": {},
   "outputs": [
    {
     "name": "stdout",
     "output_type": "stream",
     "text": [
      "가\n"
     ]
    }
   ],
   "source": [
    "msg = \"가나다라마바사아\"\n",
    "print(msg[0])"
   ]
  },
  {
   "cell_type": "code",
   "execution_count": 4,
   "id": "b563cfe5",
   "metadata": {},
   "outputs": [
    {
     "name": "stdout",
     "output_type": "stream",
     "text": [
      "1\n"
     ]
    }
   ],
   "source": [
    "tup1 = (1,2,3)\n",
    "print(tup1[0])\n",
    "# tup1[0] = 10 \"코드 에러\""
   ]
  },
  {
   "cell_type": "code",
   "execution_count": 5,
   "id": "d3703a9f",
   "metadata": {},
   "outputs": [
    {
     "name": "stdout",
     "output_type": "stream",
     "text": [
      "[1, 2, 3]\n"
     ]
    }
   ],
   "source": [
    "lst1 = list(tup1)\n",
    "print(lst1)"
   ]
  },
  {
   "cell_type": "code",
   "execution_count": 6,
   "id": "5c23da59",
   "metadata": {},
   "outputs": [
    {
     "name": "stdout",
     "output_type": "stream",
     "text": [
      "['가', '나', '다', '라', '마', '바', '사', '아']\n"
     ]
    }
   ],
   "source": [
    "lst1 = list(msg)\n",
    "print(lst1)"
   ]
  },
  {
   "cell_type": "code",
   "execution_count": 10,
   "id": "644e7f02",
   "metadata": {},
   "outputs": [
    {
     "name": "stdout",
     "output_type": "stream",
     "text": [
      "김종현\n",
      "김재헌\n",
      "김준영\n",
      "김영경\n"
     ]
    }
   ],
   "source": [
    "members = ['윤하원','손형민','오수성','박지원','조재홍',\n",
    "           '이재권','이상욱','강호현','정송희','서민지',\n",
    "           '이랑','백지윤','류효주','이재현','김종현',\n",
    "           '이대현','이효재','두소진','이득규','김재헌',\n",
    "           '김준영', '김영경']\n",
    "for name in members:\n",
    "  if '김' in name:\n",
    "    print(name)"
   ]
  }
 ],
 "metadata": {
  "kernelspec": {
   "display_name": "Python 3",
   "language": "python",
   "name": "python3"
  },
  "language_info": {
   "codemirror_mode": {
    "name": "ipython",
    "version": 3
   },
   "file_extension": ".py",
   "mimetype": "text/x-python",
   "name": "python",
   "nbconvert_exporter": "python",
   "pygments_lexer": "ipython3",
   "version": "3.11.9"
  }
 },
 "nbformat": 4,
 "nbformat_minor": 5
}
