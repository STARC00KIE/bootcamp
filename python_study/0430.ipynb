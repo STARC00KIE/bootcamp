{
 "cells": [
  {
   "cell_type": "markdown",
   "id": "fd30fbdf",
   "metadata": {},
   "source": [
    "# [04/30] 파이썬 3일차 실습예제"
   ]
  },
  {
   "cell_type": "code",
   "execution_count": 1,
   "id": "f0b9067f",
   "metadata": {},
   "outputs": [
    {
     "name": "stdout",
     "output_type": "stream",
     "text": [
      "a\n"
     ]
    }
   ],
   "source": [
    "msg = \"abcdefg\"\n",
    "print(msg[0])"
   ]
  },
  {
   "cell_type": "code",
   "execution_count": 2,
   "id": "7a3c2ee8",
   "metadata": {},
   "outputs": [
    {
     "name": "stdout",
     "output_type": "stream",
     "text": [
      "가\n"
     ]
    }
   ],
   "source": [
    "msg = \"가나다라마바사아\"\n",
    "print(msg[0])"
   ]
  },
  {
   "cell_type": "code",
   "execution_count": 4,
   "id": "b563cfe5",
   "metadata": {},
   "outputs": [
    {
     "name": "stdout",
     "output_type": "stream",
     "text": [
      "1\n"
     ]
    }
   ],
   "source": [
    "tup1 = (1,2,3)\n",
    "print(tup1[0])\n",
    "# tup1[0] = 10 \"코드 에러\""
   ]
  },
  {
   "cell_type": "code",
   "execution_count": 5,
   "id": "d3703a9f",
   "metadata": {},
   "outputs": [
    {
     "name": "stdout",
     "output_type": "stream",
     "text": [
      "[1, 2, 3]\n"
     ]
    }
   ],
   "source": [
    "lst1 = list(tup1)\n",
    "print(lst1)"
   ]
  },
  {
   "cell_type": "code",
   "execution_count": 6,
   "id": "5c23da59",
   "metadata": {},
   "outputs": [
    {
     "name": "stdout",
     "output_type": "stream",
     "text": [
      "['가', '나', '다', '라', '마', '바', '사', '아']\n"
     ]
    }
   ],
   "source": [
    "lst1 = list(msg)\n",
    "print(lst1)"
   ]
  },
  {
   "cell_type": "code",
   "execution_count": 10,
   "id": "644e7f02",
   "metadata": {},
   "outputs": [
    {
     "name": "stdout",
     "output_type": "stream",
     "text": [
      "김종현\n",
      "김재헌\n",
      "김준영\n",
      "김영경\n"
     ]
    }
   ],
   "source": [
    "members = ['윤하원','손형민','오수성','박지원','조재홍',\n",
    "           '이재권','이상욱','강호현','정송희','서민지',\n",
    "           '이랑','백지윤','류효주','이재현','김종현',\n",
    "           '이대현','이효재','두소진','이득규','김재헌',\n",
    "           '김준영', '김영경']\n",
    "for name in members:\n",
    "  if '김' in name:\n",
    "    print(name)"
   ]
  },
  {
   "cell_type": "code",
   "execution_count": 11,
   "id": "21c64e1c",
   "metadata": {},
   "outputs": [
    {
     "name": "stdout",
     "output_type": "stream",
     "text": [
      "1\n"
     ]
    }
   ],
   "source": [
    "dict1 = {'a':1, 'b':2, 'c':3}\n",
    "print(dict1['a'])"
   ]
  },
  {
   "cell_type": "code",
   "execution_count": 12,
   "id": "ada6ca71",
   "metadata": {},
   "outputs": [],
   "source": [
    "dict1['d'] = 4"
   ]
  },
  {
   "cell_type": "code",
   "execution_count": 13,
   "id": "ffac9154",
   "metadata": {},
   "outputs": [
    {
     "name": "stdout",
     "output_type": "stream",
     "text": [
      "{'a': 1, 'b': 2, 'c': 3, 'd': 4}\n"
     ]
    }
   ],
   "source": [
    "print(dict1)"
   ]
  },
  {
   "cell_type": "code",
   "execution_count": 14,
   "id": "39d395f7",
   "metadata": {},
   "outputs": [
    {
     "name": "stdout",
     "output_type": "stream",
     "text": [
      "{'a': 10, 'b': 2, 'c': 3, 'd': 4}\n"
     ]
    }
   ],
   "source": [
    "dict1['a'] = 10\n",
    "print(dict1)"
   ]
  },
  {
   "cell_type": "code",
   "execution_count": 15,
   "id": "e6395659",
   "metadata": {},
   "outputs": [
    {
     "data": {
      "text/plain": [
       "'없다~'"
      ]
     },
     "execution_count": 15,
     "metadata": {},
     "output_type": "execute_result"
    }
   ],
   "source": [
    "dict1.get('e',\"없다~\")"
   ]
  },
  {
   "cell_type": "code",
   "execution_count": 16,
   "id": "2168a5a8",
   "metadata": {},
   "outputs": [
    {
     "data": {
      "text/plain": [
       "dict_keys(['a', 'b', 'c', 'd'])"
      ]
     },
     "execution_count": 16,
     "metadata": {},
     "output_type": "execute_result"
    }
   ],
   "source": [
    "dict1.keys()"
   ]
  },
  {
   "cell_type": "code",
   "execution_count": 17,
   "id": "dc94e887",
   "metadata": {},
   "outputs": [
    {
     "data": {
      "text/plain": [
       "dict_values([10, 2, 3, 4])"
      ]
     },
     "execution_count": 17,
     "metadata": {},
     "output_type": "execute_result"
    }
   ],
   "source": [
    "dict1.values()"
   ]
  },
  {
   "cell_type": "code",
   "execution_count": 18,
   "id": "95bced10",
   "metadata": {},
   "outputs": [],
   "source": [
    "if 'e' in dict1.keys():\n",
    "    print(dict1['e'])"
   ]
  },
  {
   "cell_type": "code",
   "execution_count": 6,
   "id": "09330858",
   "metadata": {},
   "outputs": [
    {
     "name": "stdout",
     "output_type": "stream",
     "text": [
      "{'i': 2, ' ': 7, 'a': 4, 'm': 1, 'b': 1, 'o': 2, 'y': 2, '.': 1, 'u': 1, 'r': 2, 'e': 1, 'g': 1, 'l': 1}\n",
      "['i', ' ', 'a', 'm', 'b', 'o', 'y', '.', 'u', 'r', 'e', 'g', 'l']\n",
      "[2, 7, 4, 1, 1, 2, 2, 1, 1, 2, 1, 1, 1]\n",
      "[('i', 2), (' ', 7), ('a', 4), ('m', 1), ('b', 1), ('o', 2), ('y', 2), ('.', 1), ('u', 1), ('r', 2), ('e', 1), ('g', 1), ('l', 1)]\n"
     ]
    }
   ],
   "source": [
    "# 글자수 세기\n",
    "\n",
    "txt = 'i am a boy. you are a girl'\n",
    "ch_cnt = {}\n",
    "\n",
    "for c in txt:\n",
    "    if c not in ch_cnt.keys():\n",
    "        ch_cnt[c] = 1\n",
    "    else:\n",
    "        ch_cnt[c] += 1\n",
    "\n",
    "print(ch_cnt)\n",
    "print(list(ch_cnt.keys()))\n",
    "print(list(ch_cnt.values()))\n",
    "print(list(ch_cnt.items()))"
   ]
  },
  {
   "cell_type": "code",
   "execution_count": 39,
   "id": "40eb05d0",
   "metadata": {},
   "outputs": [
    {
     "name": "stdout",
     "output_type": "stream",
     "text": [
      "{'i': [2, 4, 6, 7, 5], ' ': 7, 'a': 4, 'm': 1, 'b': 1, 'o': 2, 'y': 2, '.': 1, 'u': 1, 'r': 2, 'e': 1, 'g': 1, 'l': 1}\n"
     ]
    }
   ],
   "source": [
    "dic = {'i': [2,4,6,7], ' ': 7, 'a': 4, 'm': 1, 'b': 1, 'o': 2, 'y': 2, '.': 1, 'u': 1, 'r': 2, 'e': 1, 'g': 1, 'l': 1}\n",
    "dic['i'].append(5)\n",
    "print(dic)"
   ]
  },
  {
   "cell_type": "code",
   "execution_count": 1,
   "id": "5fda7884",
   "metadata": {},
   "outputs": [
    {
     "name": "stdout",
     "output_type": "stream",
     "text": [
      "abcdef\n"
     ]
    }
   ],
   "source": [
    "ss = 'abc' + 'def'\n",
    "print(ss)"
   ]
  },
  {
   "cell_type": "code",
   "execution_count": 2,
   "id": "3a742df0",
   "metadata": {},
   "outputs": [
    {
     "name": "stdout",
     "output_type": "stream",
     "text": [
      "abcabcabc\n"
     ]
    }
   ],
   "source": [
    "ss = 'abc'*3\n",
    "print(ss)"
   ]
  },
  {
   "cell_type": "code",
   "execution_count": 3,
   "id": "f0035c61",
   "metadata": {},
   "outputs": [
    {
     "data": {
      "text/plain": [
       "9"
      ]
     },
     "execution_count": 3,
     "metadata": {},
     "output_type": "execute_result"
    }
   ],
   "source": [
    "len(ss)"
   ]
  },
  {
   "cell_type": "code",
   "execution_count": 4,
   "id": "0025fcc5",
   "metadata": {},
   "outputs": [
    {
     "data": {
      "text/plain": [
       "True"
      ]
     },
     "execution_count": 4,
     "metadata": {},
     "output_type": "execute_result"
    }
   ],
   "source": [
    "'abc' == 'abc'"
   ]
  },
  {
   "cell_type": "code",
   "execution_count": 14,
   "id": "d5bb990a",
   "metadata": {},
   "outputs": [
    {
     "name": "stdout",
     "output_type": "stream",
     "text": [
      "i am a boy. you are a girl\n"
     ]
    }
   ],
   "source": [
    "print(txt)"
   ]
  },
  {
   "cell_type": "code",
   "execution_count": 8,
   "id": "24d0727f",
   "metadata": {},
   "outputs": [
    {
     "data": {
      "text/plain": [
       "['i', 'am', 'a', 'boy.', 'you', 'are', 'a', 'girl']"
      ]
     },
     "execution_count": 8,
     "metadata": {},
     "output_type": "execute_result"
    }
   ],
   "source": [
    "txt.split()"
   ]
  },
  {
   "cell_type": "code",
   "execution_count": 10,
   "id": "d0bcebac",
   "metadata": {},
   "outputs": [
    {
     "data": {
      "text/plain": [
       "['i am a boy', ' you are a girl']"
      ]
     },
     "execution_count": 10,
     "metadata": {},
     "output_type": "execute_result"
    }
   ],
   "source": [
    "txt.split('.')"
   ]
  },
  {
   "cell_type": "code",
   "execution_count": 11,
   "id": "659c06dc",
   "metadata": {},
   "outputs": [
    {
     "data": {
      "text/plain": [
       "7"
      ]
     },
     "execution_count": 11,
     "metadata": {},
     "output_type": "execute_result"
    }
   ],
   "source": [
    "txt.find('boy')"
   ]
  },
  {
   "cell_type": "code",
   "execution_count": 13,
   "id": "ae061fb8",
   "metadata": {},
   "outputs": [
    {
     "name": "stdout",
     "output_type": "stream",
     "text": [
      "i am a b. you are a girl\n",
      "i am a boy. you are a girl\n"
     ]
    }
   ],
   "source": [
    "print(txt.replace('boy', 'b')) # 새로운 문장\n",
    "print(txt)"
   ]
  },
  {
   "cell_type": "code",
   "execution_count": 15,
   "id": "cdc38d09",
   "metadata": {},
   "outputs": [
    {
     "data": {
      "text/plain": [
       "'I AM A BOY. YOU ARE A GIRL'"
      ]
     },
     "execution_count": 15,
     "metadata": {},
     "output_type": "execute_result"
    }
   ],
   "source": [
    "txt.upper()"
   ]
  },
  {
   "cell_type": "code",
   "execution_count": 16,
   "id": "0a6d754d",
   "metadata": {},
   "outputs": [
    {
     "data": {
      "text/plain": [
       "'i am a boy. you are a girl'"
      ]
     },
     "execution_count": 16,
     "metadata": {},
     "output_type": "execute_result"
    }
   ],
   "source": [
    "txt.lower()"
   ]
  },
  {
   "cell_type": "code",
   "execution_count": 17,
   "id": "f55f3c11",
   "metadata": {},
   "outputs": [
    {
     "data": {
      "text/plain": [
       "True"
      ]
     },
     "execution_count": 17,
     "metadata": {},
     "output_type": "execute_result"
    }
   ],
   "source": [
    "txt.startswith('i am')"
   ]
  },
  {
   "cell_type": "code",
   "execution_count": 18,
   "id": "1ece336f",
   "metadata": {},
   "outputs": [
    {
     "data": {
      "text/plain": [
       "False"
      ]
     },
     "execution_count": 18,
     "metadata": {},
     "output_type": "execute_result"
    }
   ],
   "source": [
    "txt.endswith('i')"
   ]
  },
  {
   "cell_type": "code",
   "execution_count": 19,
   "id": "f17ed7c5",
   "metadata": {},
   "outputs": [
    {
     "name": "stdout",
     "output_type": "stream",
     "text": [
      "윤하원\n"
     ]
    }
   ],
   "source": [
    "members = ['윤하원','손형민','오수성','박지원','조재홍',\n",
    "           '이재권','이상욱','강호현','정송희','서민지',\n",
    "           '이랑','백지윤','류효주','이재현','김종현',\n",
    "           '이대현','이효재','두소진','이득규','김재헌',\n",
    "           '김준영','김영경']\n",
    "for name in members:\n",
    "  if name.startswith('윤'):\n",
    "    print(name)"
   ]
  },
  {
   "cell_type": "code",
   "execution_count": null,
   "id": "138b7976",
   "metadata": {},
   "outputs": [
    {
     "name": "stdout",
     "output_type": "stream",
     "text": [
      "['김종현', '김재헌', '김준영', '김영경']\n",
      "['윤하원']\n"
     ]
    }
   ],
   "source": [
    "members = ['윤하원','손형민','오수성','박지원','조재홍',\n",
    "           '이재권','이상욱','강호현','정송희','서민지',\n",
    "           '이랑','백지윤','류효주','이재현','김종현',\n",
    "           '이대현','이효재','두소진','이득규','김재헌',\n",
    "           '김준영','김영경']\n",
    "\n",
    "def my_find_names(lst, wd):\n",
    "    ret = []\n",
    "    ##### Edit here #####\n",
    "    for name in lst:\n",
    "        if name.startswith(wd):\n",
    "            ret.append(name)\n",
    "\n",
    "    #####################\n",
    "    return ret\n",
    "\n",
    "print(my_find_names(members, '김')) # ['김종현', '김재헌', '김준영', '김영경']\n",
    "print(my_find_names(members, '윤')) # ['윤하원']"
   ]
  },
  {
   "cell_type": "code",
   "execution_count": 35,
   "id": "1bcfd7fd",
   "metadata": {},
   "outputs": [
    {
     "name": "stdout",
     "output_type": "stream",
     "text": [
      "['김*현', '김*헌', '김*영', '김*경', '김*이']\n",
      "['윤*원']\n",
      "['이*권', '이*욱', '이*', '이*현', '이*현', '이*재', '이*규']\n"
     ]
    }
   ],
   "source": [
    "members = ['윤하원','손형민','오수성','박지원','조재홍',\n",
    "           '이재권','이상욱','강호현','정송희','서민지',\n",
    "           '이랑','백지윤','류효주','이재현','김종현',\n",
    "           '이대현','이효재','두소진','이득규','김재헌',\n",
    "           '김준영','김영경', '김김이']\n",
    "\n",
    "def my_find_names(lst, wd):\n",
    "    ret = []\n",
    "    ##### Edit here #####\n",
    "    for name in lst:\n",
    "        if name.startswith(wd):\n",
    "            if len(list(name)) == 2:\n",
    "                name = name[0] + '*'\n",
    "            else:\n",
    "                name = name[:1] + '*' + name[2:]\n",
    "                # name = name.replace(name[1], '*', 1) # name = name[:1] + '*' name[2:]\n",
    "            \n",
    "            ret.append(name)\n",
    "\n",
    "    #####################\n",
    "    return ret\n",
    "\n",
    "print(my_find_names(members, '김')) # ['김*현','김재헌','김준영','김영경']\n",
    "print(my_find_names(members, '윤')) # ['윤*원']\n",
    "print(my_find_names(members, '이'))"
   ]
  },
  {
   "cell_type": "code",
   "execution_count": 36,
   "id": "b72b6233",
   "metadata": {},
   "outputs": [
    {
     "name": "stdout",
     "output_type": "stream",
     "text": [
      "[10, 2, 3]\n",
      "[1, 2, 3]\n"
     ]
    }
   ],
   "source": [
    "lst1 = [1,2,3]\n",
    "lst2 = [1,2,3]\n",
    "lst1[0] = 10\n",
    "print(lst1)\n",
    "print(lst2)"
   ]
  },
  {
   "cell_type": "code",
   "execution_count": 37,
   "id": "56080821",
   "metadata": {},
   "outputs": [
    {
     "name": "stdout",
     "output_type": "stream",
     "text": [
      "[10, 2, 3]\n",
      "[10, 2, 3]\n"
     ]
    }
   ],
   "source": [
    "lst1 = [1,2,3]\n",
    "lst2 = lst1\n",
    "lst1[0] = 10\n",
    "print(lst1)\n",
    "print(lst2)"
   ]
  },
  {
   "cell_type": "code",
   "execution_count": 38,
   "id": "1aec2b07",
   "metadata": {},
   "outputs": [
    {
     "name": "stdout",
     "output_type": "stream",
     "text": [
      "[10, 2, 3]\n",
      "[1, 2, 3]\n"
     ]
    }
   ],
   "source": [
    "lst1 = [1,2,3]\n",
    "lst2 = list(lst1)\n",
    "lst1[0] = 10\n",
    "print(lst1)\n",
    "print(lst2)"
   ]
  },
  {
   "cell_type": "code",
   "execution_count": 39,
   "id": "9c923e9c",
   "metadata": {},
   "outputs": [
    {
     "name": "stdout",
     "output_type": "stream",
     "text": [
      "[10, 2, 3]\n",
      "[1, 2, 3]\n"
     ]
    }
   ],
   "source": [
    "lst1 = [1,2,3]\n",
    "lst2 = lst1.copy()\n",
    "lst1[0] = 10\n",
    "print(lst1)\n",
    "print(lst2)"
   ]
  },
  {
   "cell_type": "code",
   "execution_count": null,
   "id": "d7112d8a",
   "metadata": {},
   "outputs": [
    {
     "name": "stdout",
     "output_type": "stream",
     "text": [
      "{'강': ['강호현'], '김': ['김종현', '김재헌', '김준영', '김영경'], '두': ['두소진'], '류': ['류효주'], '박': ['박지원'], '백': ['백지윤'], '서': ['서민지'], '손': ['손형민'], '오': ['오수성'], '윤': ['윤하원'], '이': ['이재권', '이상욱', '이랑', '이재현', '이대현', '이효재', '이득규'], '정': ['정송희'], '조': ['조재홍']}\n"
     ]
    }
   ],
   "source": [
    "members = ['윤하원','손형민','오수성','박지원','조재홍',\n",
    "           '이재권','이상욱','강호현','정송희','서민지',\n",
    "           '이랑','백지윤','류효주','이재현','김종현',\n",
    "           '이대현','이효재','두소진','이득규','김재헌',\n",
    "           '김준영','김영경']\n",
    "\n",
    "\n",
    "def make_dic(members):\n",
    "    # 초기화\n",
    "    dic = {}\n",
    "\n",
    "    for member in members:\n",
    "        if member[0] in dic: # 딕셔너리에 성이 있을때 \n",
    "            dic[member[0]].append(member)\n",
    "        else: # 딕셔너리에 없을 때\n",
    "            dic[member[0]] = [member]\n",
    "    \n",
    "    # key 정렬\n",
    "    dic = dict(sorted(dic.items()))\n",
    "\n",
    "    return dic\n",
    "\n",
    "print(make_dic(members))\n"
   ]
  },
  {
   "cell_type": "code",
   "execution_count": 46,
   "id": "a28d7774",
   "metadata": {},
   "outputs": [
    {
     "name": "stdout",
     "output_type": "stream",
     "text": [
      "{'윤': ['윤하원'], '손': ['손형민'], '오': ['오수성'], '박': ['박지원'], '조': ['조재홍'], '이': ['이재권', '이상욱', '이랑', '이재현', '이대현', '이효재', '이득규'], '강': ['강호현'], '정': ['정송희'], '서': ['서민지'], '백': ['백지윤'], '류': ['류효주'], '김': ['김종현', '김재헌', '김준영', '김영경'], '두': ['두소진']}\n"
     ]
    }
   ],
   "source": [
    "members = ['윤하원','손형민','오수성','박지원','조재홍',\n",
    "           '이재권','이상욱','강호현','정송희','서민지',\n",
    "           '이랑','백지윤','류효주','이재현','김종현',\n",
    "           '이대현','이효재','두소진','이득규','김재헌',\n",
    "           '김준영','김영경']\n",
    "\n",
    "fn_names = {}\n",
    "for name in members:\n",
    "  fn_names[name[0]] = fn_names.get(name[0], []) + [name]\n",
    "print(fn_names)"
   ]
  },
  {
   "cell_type": "code",
   "execution_count": 51,
   "id": "c0733400",
   "metadata": {},
   "outputs": [
    {
     "name": "stdout",
     "output_type": "stream",
     "text": [
      "[10, 2, 3]\n",
      "[1, 2, 3]\n"
     ]
    }
   ],
   "source": [
    "lst1 = [1,2,3]\n",
    "lst2 = [1,2,3]\n",
    "lst1[0] = 10\n",
    "print(lst1)\n",
    "print(lst2)"
   ]
  },
  {
   "cell_type": "code",
   "execution_count": 50,
   "id": "b7339fb2",
   "metadata": {},
   "outputs": [
    {
     "name": "stdout",
     "output_type": "stream",
     "text": [
      "[10, 2, 3]\n",
      "[10, 2, 3]\n"
     ]
    }
   ],
   "source": [
    "lst1 = [1,2,3]\n",
    "lst2 = lst1\n",
    "lst1[0] = 10\n",
    "print(lst1)\n",
    "print(lst2)"
   ]
  },
  {
   "cell_type": "code",
   "execution_count": 49,
   "id": "3efedb85",
   "metadata": {},
   "outputs": [
    {
     "name": "stdout",
     "output_type": "stream",
     "text": [
      "[10, 2, 3]\n",
      "[1, 2, 3]\n"
     ]
    }
   ],
   "source": [
    "lst1 = [1,2,3]\n",
    "lst2 = list(lst1)\n",
    "lst1[0] = 10\n",
    "print(lst1)\n",
    "print(lst2)"
   ]
  },
  {
   "cell_type": "code",
   "execution_count": 48,
   "id": "b88cc3f9",
   "metadata": {},
   "outputs": [
    {
     "name": "stdout",
     "output_type": "stream",
     "text": [
      "[10, 2, 3]\n",
      "[1, 2, 3]\n"
     ]
    }
   ],
   "source": [
    "lst1 = [1,2,3]\n",
    "lst2 = lst1.copy()\n",
    "lst1[0] = 10\n",
    "print(lst1)\n",
    "print(lst2)"
   ]
  },
  {
   "cell_type": "code",
   "execution_count": 53,
   "id": "5c463f3f",
   "metadata": {},
   "outputs": [
    {
     "name": "stdout",
     "output_type": "stream",
     "text": [
      "이 : ['이재권', '이상욱', '이랑', '이재현', '이대현', '이효재', '이득규']\n"
     ]
    }
   ],
   "source": [
    "max = 0\n",
    "max_name = ''\n",
    "for ln in fn_names:\n",
    "  if max < len(fn_names[ln]):\n",
    "    max = len(fn_names[ln])\n",
    "    max_name = ln\n",
    "print(max_name, \":\", fn_names[max_name])"
   ]
  },
  {
   "cell_type": "code",
   "execution_count": 82,
   "id": "5c05847c",
   "metadata": {},
   "outputs": [
    {
     "name": "stdout",
     "output_type": "stream",
     "text": [
      "\n",
      "I am happy to join with you today in what will go down in history as the greatest demonstration for freedom in the history of our nation.\n",
      "\n",
      "Five score years ago, a great American, in whose symbolic shadow we stand today, signed the Emancipation Proclamation. This momentous decree came as a great beacon light of hope to millions of Negro slaves who had been seared in the flames of withering injustice. It came as a joyous daybreak to end the long night of their captivity.\n",
      "\n",
      "But one hundred years later, the Negro still is not free. One hundred years later, the life of the Negro is still sadly crippled by the manacles of segregation and the chains of discrimination. One hundred years later, the Negro lives on a lonely island of poverty in the midst of a vast ocean of material prosperity. One hundred years later, the Negro is still languishing in the corners of American society and finds himself an exile in his own land. So we have come here today to dramatize a shameful condition.\n",
      "\n",
      "In a sense we have come to our nation's capital to cash a check. When the architects of our republic wrote the magnificent words of the Constitution and the Declaration of Independence, they were signing a promissory note to which every American was to fall heir. This note was a promise that all men, -yes, black men as well as white men,- would be guaranteed the unalienable rights of life, liberty, and the pursuit of happiness.\n",
      "\n",
      "It is obvious today that America has defaulted on this promissory note insofar as her citizens of color are concerned. Instead of honoring this sacred obligation, America has given the Negro people a bad check, a check which has come back marked \"insufficient funds.\" But we refuse to believe that the bank of justice is bankrupt. We refuse to believe that there are insufficient funds in the great vaults of opportunity of this nation. So we have come to cash this check — a check that will give us upon demand the riches of freedom and the security of justice.\n",
      "\n",
      "We have also come to this hallowed spot to remind America of the fierce urgency of now. This is no time to engage in the luxury of cooling off or to take the tranquilizing drug of gradualism. Now is the time to make real the promises of democracy. Now is the time to rise from the dark and desolate valley of segregation to the sunlit path of racial justice. Now is the time to lift our nation from the quick sands of racial injustice to the solid rock of brotherhood. Now is the time to make justice a reality for all of God's children.\n",
      "\n",
      "It would be fatal for the nation to overlook the urgency of the moment. This sweltering summer of the Negro's legitimate discontent will not pass until there is an invigorating autumn of freedom and equality. Nineteen sixty-three is not an end, but a beginning. Those who hope that the Negro needed to blow off steam and will now be content will have a rude awakening if the nation returns to business as usual. There will be neither rest nor tranquility in America until the Negro is granted his citizenship rights. The whirlwinds of revolt will continue to shake the foundations of our nation until the bright day of justice emerges.\n",
      "\n",
      "But there is something that I must say to my people who stand on the warm threshold which leads into the palace of justice. In the process of gaining our rightful place we must not be guilty of wrongful deeds. Let us not seek to satisfy our thirst for freedom by drinking from the cup of bitterness and hatred.\n",
      "\n",
      "We must forever conduct our struggle on the high plane of dignity and discipline. We must not allow our creative protest to degenerate into physical violence. Again and again we must rise to the majestic heights of meeting physical force with soul force. The marvelous new militancy which has engulfed the Negro community must not lead us to a distrust of all white people, for many of our white brothers, as evidenced by their presence here today, have come to realize that their destiny is tied up with our destiny. They have come to realize that their freedom is inextricably bound to our freedom. We cannot walk alone.\n",
      "\n",
      "As we walk, we must make the pledge that we shall always march ahead. We cannot turn back. There are those who are asking the devotees of civil rights, \"When will you be satisfied?\" We can never be satisfied as long as the Negro is the victim of the unspeakable horrors of police brutality. We can never be satisfied, as long as our bodies, heavy with the fatigue of travel, cannot gain lodging in the motels of the highways and the hotels of the cities. We cannot be satisfied as long as the Negro's basic mobility is from a smaller ghetto to a larger one. We can never be satisfied as long as our children are stripped of their selfhood and robbed of their dignity by signs stating \"For Whites Only\". We cannot be satisfied as long as a Negro in Mississippi cannot vote and a Negro in New York believes he has nothing for which to vote. No, no, we are not satisfied, and we will not be satisfied until justice rolls down like waters and righteousness like a mighty stream.\n",
      "\n",
      "I am not unmindful that some of you have come here out of great trials and tribulations. Some of you have come fresh from narrow jail cells. Some of you have come from areas where your quest for freedom left you battered by the storms of persecution and staggered by the winds of police brutality. You have been the veterans of creative suffering. Continue to work with the faith that unearned suffering is redemptive.\n",
      "\n",
      "Go back to Mississippi, go back to Alabama, go back to South Carolina, go back to Georgia, go back to Louisiana, go back to the slums and ghettos of our northern cities, knowing that somehow this situation can and will be changed. Let us not wallow in the valley of despair.\n",
      "\n",
      "I say to you today, my friends, so even though we face the difficulties of today and tomorrow, I still have a dream. It is a dream deeply rooted in the American dream.\n",
      "\n",
      "I have a dream that one day this nation will rise up and live out the true meaning of its creed: \"We hold these truths to be self-evident: that all men are created equal.\"\n",
      "\n",
      "I have a dream that one day on the red hills of Georgia the sons of former slaves and the sons of former slave owners will be able to sit down together at the table of brotherhood.\n",
      "\n",
      "I have a dream that one day even the state of Mississippi, a state sweltering with the heat of injustice, sweltering with the heat of oppression, will be transformed into an oasis of freedom and justice.\n",
      "\n",
      "I have a dream that my four little children will one day live in a nation where they will not be judged by the color of their skin, but by the content of their character.\n",
      "\n",
      "I have a dream today.\n",
      "\n",
      "I have a dream that one day, down in Alabama, with its vicious racists, with its governor having his lips dripping with the words of interposition and nullification; one day right there in Alabama, little black boys and black girls will be able to join hands with little white boys and white girls as sisters and brothers.\n",
      "\n",
      "I have a dream today.\n",
      "\n",
      "I have a dream that one day every valley shall be exalted, every hill and mountain shall be made low, the rough places will be made plain, and the crooked places will be made straight, and the glory of the Lord shall be revealed, and all flesh shall see it together.\n",
      "\n",
      "This is our hope. This is the faith that I go back to the South with. With this faith we will be able to hew out of the mountain of despair a stone of hope. With this faith we will be able to transform the jangling discords of our nation into a beautiful symphony of brotherhood. With this faith we will be able to work together, to pray together, to struggle together, to go to jail together, to stand up for freedom together, knowing that we will be free one day.\n",
      "\n",
      "This will be the day when all of God's children will be able to sing with a new meaning, \"My country, 'tis of thee, sweet land of liberty, of thee I sing. Land where my fathers died, land of the pilgrim's pride, from every mountainside, let freedom ring.\"\n",
      "\n",
      "And if America is to be a great nation this must become true.\n",
      "\n",
      "So let freedom ring from the prodigious hilltops of New Hampshire.\n",
      "\n",
      "Let freedom ring from the mighty mountains of New York. Let freedom ring from the heightening Alleghenies of Pennsylvania!\n",
      "\n",
      "Let freedom ring from the snowcapped Rockies of Colorado!\n",
      "\n",
      "Let freedom ring from the curvaceous slopes of California!\n",
      "\n",
      "But not only that; let freedom ring from Stone Mountain of Georgia!\n",
      "\n",
      "Let freedom ring from Lookout Mountain of Tennessee!\n",
      "\n",
      "Let freedom ring from every hill and molehill of Mississippi.\n",
      "\n",
      "From every mountainside, let freedom ring.\n",
      "\n",
      "And when this happens, when we allow freedom to ring, when we let it ring from every village and every hamlet, from every state and every city, we will be able to speed up that day when all of God's children, black men and white men, Jews and Gentiles, Protestants and Catholics, will be able to join hands and sing in the words of the old Negro spiritual,\n",
      "\n",
      "\"Free at last! Free at last! Thank God Almighty, we are free at last!\"\n",
      "\n"
     ]
    }
   ],
   "source": [
    "msg = '''\n",
    "I am happy to join with you today in what will go down in history as the greatest demonstration for freedom in the history of our nation.\n",
    "\n",
    "Five score years ago, a great American, in whose symbolic shadow we stand today, signed the Emancipation Proclamation. This momentous decree came as a great beacon light of hope to millions of Negro slaves who had been seared in the flames of withering injustice. It came as a joyous daybreak to end the long night of their captivity.\n",
    "\n",
    "But one hundred years later, the Negro still is not free. One hundred years later, the life of the Negro is still sadly crippled by the manacles of segregation and the chains of discrimination. One hundred years later, the Negro lives on a lonely island of poverty in the midst of a vast ocean of material prosperity. One hundred years later, the Negro is still languishing in the corners of American society and finds himself an exile in his own land. So we have come here today to dramatize a shameful condition.\n",
    "\n",
    "In a sense we have come to our nation's capital to cash a check. When the architects of our republic wrote the magnificent words of the Constitution and the Declaration of Independence, they were signing a promissory note to which every American was to fall heir. This note was a promise that all men, -yes, black men as well as white men,- would be guaranteed the unalienable rights of life, liberty, and the pursuit of happiness.\n",
    "\n",
    "It is obvious today that America has defaulted on this promissory note insofar as her citizens of color are concerned. Instead of honoring this sacred obligation, America has given the Negro people a bad check, a check which has come back marked \"insufficient funds.\" But we refuse to believe that the bank of justice is bankrupt. We refuse to believe that there are insufficient funds in the great vaults of opportunity of this nation. So we have come to cash this check — a check that will give us upon demand the riches of freedom and the security of justice.\n",
    "\n",
    "We have also come to this hallowed spot to remind America of the fierce urgency of now. This is no time to engage in the luxury of cooling off or to take the tranquilizing drug of gradualism. Now is the time to make real the promises of democracy. Now is the time to rise from the dark and desolate valley of segregation to the sunlit path of racial justice. Now is the time to lift our nation from the quick sands of racial injustice to the solid rock of brotherhood. Now is the time to make justice a reality for all of God's children.\n",
    "\n",
    "It would be fatal for the nation to overlook the urgency of the moment. This sweltering summer of the Negro's legitimate discontent will not pass until there is an invigorating autumn of freedom and equality. Nineteen sixty-three is not an end, but a beginning. Those who hope that the Negro needed to blow off steam and will now be content will have a rude awakening if the nation returns to business as usual. There will be neither rest nor tranquility in America until the Negro is granted his citizenship rights. The whirlwinds of revolt will continue to shake the foundations of our nation until the bright day of justice emerges.\n",
    "\n",
    "But there is something that I must say to my people who stand on the warm threshold which leads into the palace of justice. In the process of gaining our rightful place we must not be guilty of wrongful deeds. Let us not seek to satisfy our thirst for freedom by drinking from the cup of bitterness and hatred.\n",
    "\n",
    "We must forever conduct our struggle on the high plane of dignity and discipline. We must not allow our creative protest to degenerate into physical violence. Again and again we must rise to the majestic heights of meeting physical force with soul force. The marvelous new militancy which has engulfed the Negro community must not lead us to a distrust of all white people, for many of our white brothers, as evidenced by their presence here today, have come to realize that their destiny is tied up with our destiny. They have come to realize that their freedom is inextricably bound to our freedom. We cannot walk alone.\n",
    "\n",
    "As we walk, we must make the pledge that we shall always march ahead. We cannot turn back. There are those who are asking the devotees of civil rights, \"When will you be satisfied?\" We can never be satisfied as long as the Negro is the victim of the unspeakable horrors of police brutality. We can never be satisfied, as long as our bodies, heavy with the fatigue of travel, cannot gain lodging in the motels of the highways and the hotels of the cities. We cannot be satisfied as long as the Negro's basic mobility is from a smaller ghetto to a larger one. We can never be satisfied as long as our children are stripped of their selfhood and robbed of their dignity by signs stating \"For Whites Only\". We cannot be satisfied as long as a Negro in Mississippi cannot vote and a Negro in New York believes he has nothing for which to vote. No, no, we are not satisfied, and we will not be satisfied until justice rolls down like waters and righteousness like a mighty stream.\n",
    "\n",
    "I am not unmindful that some of you have come here out of great trials and tribulations. Some of you have come fresh from narrow jail cells. Some of you have come from areas where your quest for freedom left you battered by the storms of persecution and staggered by the winds of police brutality. You have been the veterans of creative suffering. Continue to work with the faith that unearned suffering is redemptive.\n",
    "\n",
    "Go back to Mississippi, go back to Alabama, go back to South Carolina, go back to Georgia, go back to Louisiana, go back to the slums and ghettos of our northern cities, knowing that somehow this situation can and will be changed. Let us not wallow in the valley of despair.\n",
    "\n",
    "I say to you today, my friends, so even though we face the difficulties of today and tomorrow, I still have a dream. It is a dream deeply rooted in the American dream.\n",
    "\n",
    "I have a dream that one day this nation will rise up and live out the true meaning of its creed: \"We hold these truths to be self-evident: that all men are created equal.\"\n",
    "\n",
    "I have a dream that one day on the red hills of Georgia the sons of former slaves and the sons of former slave owners will be able to sit down together at the table of brotherhood.\n",
    "\n",
    "I have a dream that one day even the state of Mississippi, a state sweltering with the heat of injustice, sweltering with the heat of oppression, will be transformed into an oasis of freedom and justice.\n",
    "\n",
    "I have a dream that my four little children will one day live in a nation where they will not be judged by the color of their skin, but by the content of their character.\n",
    "\n",
    "I have a dream today.\n",
    "\n",
    "I have a dream that one day, down in Alabama, with its vicious racists, with its governor having his lips dripping with the words of interposition and nullification; one day right there in Alabama, little black boys and black girls will be able to join hands with little white boys and white girls as sisters and brothers.\n",
    "\n",
    "I have a dream today.\n",
    "\n",
    "I have a dream that one day every valley shall be exalted, every hill and mountain shall be made low, the rough places will be made plain, and the crooked places will be made straight, and the glory of the Lord shall be revealed, and all flesh shall see it together.\n",
    "\n",
    "This is our hope. This is the faith that I go back to the South with. With this faith we will be able to hew out of the mountain of despair a stone of hope. With this faith we will be able to transform the jangling discords of our nation into a beautiful symphony of brotherhood. With this faith we will be able to work together, to pray together, to struggle together, to go to jail together, to stand up for freedom together, knowing that we will be free one day.\n",
    "\n",
    "This will be the day when all of God's children will be able to sing with a new meaning, \"My country, 'tis of thee, sweet land of liberty, of thee I sing. Land where my fathers died, land of the pilgrim's pride, from every mountainside, let freedom ring.\"\n",
    "\n",
    "And if America is to be a great nation this must become true.\n",
    "\n",
    "So let freedom ring from the prodigious hilltops of New Hampshire.\n",
    "\n",
    "Let freedom ring from the mighty mountains of New York. Let freedom ring from the heightening Alleghenies of Pennsylvania!\n",
    "\n",
    "Let freedom ring from the snowcapped Rockies of Colorado!\n",
    "\n",
    "Let freedom ring from the curvaceous slopes of California!\n",
    "\n",
    "But not only that; let freedom ring from Stone Mountain of Georgia!\n",
    "\n",
    "Let freedom ring from Lookout Mountain of Tennessee!\n",
    "\n",
    "Let freedom ring from every hill and molehill of Mississippi.\n",
    "\n",
    "From every mountainside, let freedom ring.\n",
    "\n",
    "And when this happens, when we allow freedom to ring, when we let it ring from every village and every hamlet, from every state and every city, we will be able to speed up that day when all of God's children, black men and white men, Jews and Gentiles, Protestants and Catholics, will be able to join hands and sing in the words of the old Negro spiritual,\n",
    "\n",
    "\"Free at last! Free at last! Thank God Almighty, we are free at last!\"\n",
    "'''\n",
    "print(msg)"
   ]
  },
  {
   "cell_type": "markdown",
   "id": "32ac0e4a",
   "metadata": {},
   "source": [
    "# 1. collections 라이브러리 사용"
   ]
  },
  {
   "cell_type": "code",
   "execution_count": 103,
   "id": "f7785db4",
   "metadata": {},
   "outputs": [
    {
     "name": "stdout",
     "output_type": "stream",
     "text": [
      "['will', 'that', 'freedom', 'have', 'from', 'Negro', 'with', 'this', 'come', 'dream', 'every', 'ring']\n"
     ]
    }
   ],
   "source": [
    "# 1. space 를 기준으로 word 를 구분하고\n",
    "# 2. 3글자 이하는 제외하고\n",
    "# 3. 가장 많이 나오는 단어 Top 10 를 returen 해주는 함수\n",
    "\n",
    "from collections import Counter\n",
    "    # space 를 기준으로 word 를 구분\n",
    "def top_ten_word(msg):\n",
    "    splmsg = msg.split(sep=\" \")\n",
    "    answer = []\n",
    "\n",
    "    # print(splmsg)\n",
    "    # for 문 돌리면서 \n",
    "    for ms in splmsg:\n",
    "        # 문자 검사해서 알파펫 아니면 제거\n",
    "        tmp = \"\"\n",
    "        for m in ms:\n",
    "            # print(m)\n",
    "            if (97<=ord(m) and ord(m)<=122) or (65<=ord(m) and ord(m)<=90):\n",
    "                tmp += m\n",
    "        \n",
    "        if len(tmp) > 3:\n",
    "            answer.append(tmp)\n",
    "    # print(answer)\n",
    "\n",
    "    # 초기화\n",
    "    cnt = 0 # 숫자 개수\n",
    "    answer.sort() # 정렬\n",
    "    tmp = answer[0] # 처음 비교할 숫자\n",
    "    # print(answer)\n",
    "\n",
    "    answer = Counter(answer)\n",
    "    values = sorted(list(set(answer.values())), reverse=True)\n",
    "    \n",
    "    lst = []\n",
    "    cnt = 0\n",
    "    \n",
    "    for va in values:\n",
    "        keys = [k for k, v in answer.items() if v == va]\n",
    "        if cnt <= 10:\n",
    "            lst += keys\n",
    "        else:\n",
    "            continue\n",
    "        \n",
    "        cnt += len(keys)\n",
    "    \n",
    "    return lst\n",
    "\n",
    "\n",
    "print(top_ten_word(msg))"
   ]
  },
  {
   "cell_type": "markdown",
   "id": "c5fdb2e0",
   "metadata": {},
   "source": [
    "# 배운 것만 사용하기"
   ]
  },
  {
   "cell_type": "code",
   "execution_count": null,
   "id": "646293d9",
   "metadata": {},
   "outputs": [
    {
     "name": "stdout",
     "output_type": "stream",
     "text": [
      "['will', 'that', 'freedom', 'have', 'from', 'Negro', 'with', 'this', 'come', 'dream', 'every', 'ring']\n"
     ]
    }
   ],
   "source": [
    "def top_ten_word(msg):\n",
    "    splmsg = msg.split(sep=\" \") # 공백 기준으로 split\n",
    "    answer = []\n",
    "\n",
    "    # 1. 글자수 3글자 이하, 특수문자 제거된 리스트 answer 제작\n",
    "    for ms in splmsg:\n",
    "        # 문자 검사해서 알파펫 아니면 제거\n",
    "        tmp = \"\"\n",
    "        for m in ms:\n",
    "            # print(m)\n",
    "            if (97<=ord(m) and ord(m)<=122) or (65<=ord(m) and ord(m)<=90): # 이렇게 안하고 알파벳을 모두 딕셔너리나 리스트 형태로 저장하고 그 안에 있는지의 여부에 대해 물어볼 수 도 있음\n",
    "                tmp += m\n",
    "        \n",
    "        if len(tmp) > 3:\n",
    "            answer.append(tmp)\n",
    "\n",
    "    # 2. 빈도수 딕셔너리 만들기\n",
    "    answer = sorted(answer) # 정렬\n",
    "    valdic = {}\n",
    "    tmp = answer[0] # 카운트 하고 있는 현재 문자\n",
    "    cnt = 1\n",
    "    for ans in answer[1:]:\n",
    "        # print(f'ans: {ans}, tmp: {tmp}, cnt: {cnt}')\n",
    "        if ans != tmp: # 문자가 달라지면\n",
    "            if cnt not in valdic: # 문자가 달라지고 key 빈도가 없으면\n",
    "                valdic[cnt] = [tmp] # 이전 문자로 넣어줌\n",
    "            else: # 문자가 달라지고 key 빈도가 있으면\n",
    "                valdic[cnt].append(tmp) # 이전 문자로 넣어줌\n",
    "            tmp = ans # 새로운 문자 선정\n",
    "\n",
    "            cnt = 1 # 카운트 다시셈\n",
    "        elif ans == tmp: # 문자가 달라지지 않으며면\n",
    "            cnt += 1 \n",
    "        else: # 마지막 글자\n",
    "            if cnt not in valdic: # 문자가 달라지고 key 빈도가 없으면\n",
    "                valdic[cnt] = [tmp] # 이전 문자로 넣어줌\n",
    "            else: # 문자가 달라지고 key 빈도가 있으면\n",
    "                valdic[cnt].append(tmp) # 이전 문자로 넣어줌\n",
    "    \n",
    "    valdic = dict(sorted(valdic.items(), reverse = True)) # 빈도수 내림차순 정렬\n",
    "\n",
    "    # 딕셔너리 기준 상위 10개 뽑기\n",
    "    valcnt = 0\n",
    "    answer = []\n",
    "    \n",
    "    for _, v in valdic.items():\n",
    "        answer += v\n",
    "        valcnt += len(v)\n",
    "        if valcnt >= 10:\n",
    "            break\n",
    "\n",
    "    return answer\n",
    "            \n",
    "print(top_ten_word(msg))"
   ]
  }
 ],
 "metadata": {
  "kernelspec": {
   "display_name": "Python 3",
   "language": "python",
   "name": "python3"
  },
  "language_info": {
   "codemirror_mode": {
    "name": "ipython",
    "version": 3
   },
   "file_extension": ".py",
   "mimetype": "text/x-python",
   "name": "python",
   "nbconvert_exporter": "python",
   "pygments_lexer": "ipython3",
   "version": "3.11.9"
  }
 },
 "nbformat": 4,
 "nbformat_minor": 5
}
