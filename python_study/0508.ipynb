{
 "cells": [
  {
   "cell_type": "markdown",
   "id": "97c1f76e",
   "metadata": {},
   "source": [
    "# [05/08] 파이썬 7일차 실습예제"
   ]
  },
  {
   "cell_type": "code",
   "execution_count": null,
   "id": "e689dfe3",
   "metadata": {},
   "outputs": [],
   "source": [
    "data = {'state': ['Ohio', 'Ohio', 'Ohio', 'Nevada', 'Nevada'],\n",
    "        'year': [2000, 2001, 2002, 2001, 2002],\n",
    "        'pop': [1.5, 1.7, 3.6, 2.4, 2.9]}\n",
    "\n",
    "frame = DataFrame(data)\n",
    "frame2 = DataFrame(data, columns=['year', 'state', 'pop', 'debt'],\n",
    "                   index = ['one', 'two', 'theee', 'four', 'five'])"
   ]
  }
 ],
 "metadata": {
  "language_info": {
   "name": "python"
  }
 },
 "nbformat": 4,
 "nbformat_minor": 5
}
