{
  "cells": [
    {
      "cell_type": "markdown",
      "metadata": {},
      "source": [
        "# [04/29] 파이썬 3일차 실습예제"
      ]
    },
    {
      "cell_type": "code",
      "execution_count": 124,
      "metadata": {
        "id": "32C0F2Yi68gg"
      },
      "outputs": [],
      "source": [
        "members = ['윤하원','손형민','오수성','박지원','조재홍',\n",
        "           '이재권','이상욱','강호현','정송희','서민지',\n",
        "           '이랑','백지윤','류효주','이재현','김종현',\n",
        "           '이대현','이효재','두소진','이득규','김재헌',\n",
        "           '김준영','김영경']"
      ]
    },
    {
      "cell_type": "code",
      "execution_count": 125,
      "metadata": {
        "colab": {
          "base_uri": "https://localhost:8080/"
        },
        "id": "Z_8g0q-7-Gaz",
        "outputId": "8ca86585-4cfb-4b1d-85ab-1010e8de8041"
      },
      "outputs": [
        {
          "data": {
            "text/plain": [
              "['류효주']"
            ]
          },
          "execution_count": 125,
          "metadata": {},
          "output_type": "execute_result"
        }
      ],
      "source": [
        "\"\"\"\n",
        "len(members) == 22\n",
        "members[2058%22:2059%22+1] -> 류효주\n",
        "\"\"\"\n",
        "\n",
        "members[(2025+4+29)%len(members):((2025+4+29)%len(members)+1)]"
      ]
    },
    {
      "cell_type": "code",
      "execution_count": 126,
      "metadata": {
        "colab": {
          "base_uri": "https://localhost:8080/"
        },
        "id": "A8NfoaCuRABJ",
        "outputId": "b9463afd-20df-491b-bf65-087edc60cd38"
      },
      "outputs": [
        {
          "name": "stdout",
          "output_type": "stream",
          "text": [
            "11\n"
          ]
        }
      ],
      "source": [
        "def abc(rad):\n",
        "    param = rad + pi\n",
        "    return param\n",
        "\n",
        "pi = 1\n",
        "param = 0\n",
        "print(abc(10))"
      ]
    },
    {
      "cell_type": "markdown",
      "metadata": {
        "id": "z9XplxnbvJqI"
      },
      "source": [
        "# members 리스트에서 '김'씨만 출력"
      ]
    },
    {
      "cell_type": "code",
      "execution_count": 127,
      "metadata": {
        "colab": {
          "base_uri": "https://localhost:8080/"
        },
        "id": "wWZv7XBNuhYo",
        "outputId": "4026edb7-1e18-4029-aedc-f843431ea41b"
      },
      "outputs": [
        {
          "name": "stdout",
          "output_type": "stream",
          "text": [
            "['김종현', '김재헌', '김준영', '김영경']\n"
          ]
        }
      ],
      "source": [
        "answer = []\n",
        "for name in members:\n",
        "    if name[0] == '김':\n",
        "        answer.append(name)\n",
        "print(answer)"
      ]
    },
    {
      "cell_type": "code",
      "execution_count": 128,
      "metadata": {
        "colab": {
          "base_uri": "https://localhost:8080/"
        },
        "id": "7PTNN5k1v5NH",
        "outputId": "f1e541fd-0671-419a-d6db-5ab35088eb94"
      },
      "outputs": [
        {
          "name": "stdout",
          "output_type": "stream",
          "text": [
            "안녕하세요~ 제 이름은 윤하원입니다.\t안녕하세요~ 제 이름은 손형민입니다.\t안녕하세요~ 제 이름은 오수성입니다.\t안녕하세요~ 제 이름은 박지원입니다.\t안녕하세요~ 제 이름은 조재홍입니다.\t안녕하세요~ 제 이름은 이재권입니다.\t안녕하세요~ 제 이름은 이상욱입니다.\t안녕하세요~ 제 이름은 강호현입니다.\t안녕하세요~ 제 이름은 정송희입니다.\t안녕하세요~ 제 이름은 서민지입니다.\t안녕하세요~ 제 이름은 이랑입니다.\t안녕하세요~ 제 이름은 백지윤입니다.\t안녕하세요~ 제 이름은 류효주입니다.\t안녕하세요~ 제 이름은 이재현입니다.\t안녕하세요~ 제 이름은 김종현입니다.\t안녕하세요~ 제 이름은 이대현입니다.\t안녕하세요~ 제 이름은 이효재입니다.\t안녕하세요~ 제 이름은 두소진입니다.\t안녕하세요~ 제 이름은 이득규입니다.\t안녕하세요~ 제 이름은 김재헌입니다.\t안녕하세요~ 제 이름은 김준영입니다.\t안녕하세요~ 제 이름은 김영경입니다.\t"
          ]
        }
      ],
      "source": [
        "for name in members:\n",
        "  print(f'안녕하세요~ 제 이름은 {name}입니다.', end= \"\\t\")"
      ]
    },
    {
      "cell_type": "code",
      "execution_count": 129,
      "metadata": {
        "colab": {
          "base_uri": "https://localhost:8080/"
        },
        "id": "mk58pi9qxPun",
        "outputId": "25e55096-2b82-44c9-fb56-31780d538e0c"
      },
      "outputs": [
        {
          "name": "stdout",
          "output_type": "stream",
          "text": [
            "['윤하원', '오수성', '박지원', '이재권', '서민지', '이랑', '백지윤', '김종현', '이대현', '이효재', '김재헌', '김준영']\n"
          ]
        }
      ],
      "source": [
        "# check 가 1일때의 인덱스 값에 맞는 members 이름 출력\n",
        "check = [1,0,1,1,0,\n",
        "         1,0,0,0,1,\n",
        "         1,1,0,0,1,\n",
        "         1,1,0,0,1,\n",
        "         1,0]\n",
        "\n",
        "lst = []\n",
        "idx = 0\n",
        "for cnt in check:\n",
        "    if cnt == 1:\n",
        "        lst.append(members[idx])\n",
        "    idx += 1\n",
        "\n",
        "print(lst)"
      ]
    },
    {
      "cell_type": "code",
      "execution_count": 130,
      "metadata": {
        "colab": {
          "base_uri": "https://localhost:8080/"
        },
        "id": "KN7aQV_kx7Z4",
        "outputId": "2083ff02-919b-4f98-8939-c533f2728d4d"
      },
      "outputs": [
        {
          "name": "stdout",
          "output_type": "stream",
          "text": [
            "['윤하원', '오수성', '박지원', '이재권', '서민지', '이랑', '백지윤', '김종현', '이대현', '이효재', '김재헌', '김준영']\n"
          ]
        }
      ],
      "source": [
        "# index 함수 사용\n",
        "check = [1,0,1,1,0,\n",
        "         1,0,0,0,1,\n",
        "         1,1,0,0,1,\n",
        "         1,1,0,0,1,\n",
        "         1,0]\n",
        "\n",
        "answer = []\n",
        "for name in members:\n",
        "    if check[members.index(name)] == 1:\n",
        "        answer.append(name)\n",
        "\n",
        "print(answer)"
      ]
    },
    {
      "cell_type": "markdown",
      "metadata": {
        "id": "bvHMs2jjZVMX"
      },
      "source": [
        "# enumerate, zip 함수, 사용자 함수"
      ]
    },
    {
      "cell_type": "code",
      "execution_count": 131,
      "metadata": {
        "colab": {
          "base_uri": "https://localhost:8080/"
        },
        "id": "DkTkvTLQyfy1",
        "outputId": "c5ec1691-07d4-4ba9-a427-fdac1b265e06"
      },
      "outputs": [
        {
          "name": "stdout",
          "output_type": "stream",
          "text": [
            "윤하원\n",
            "오수성\n",
            "박지원\n",
            "이재권\n",
            "서민지\n",
            "이랑\n",
            "백지윤\n",
            "김종현\n",
            "이대현\n",
            "이효재\n",
            "김재헌\n",
            "김준영\n"
          ]
        }
      ],
      "source": [
        "# enumerate\n",
        "check = [1,0,1,1,0,\n",
        "         1,0,0,0,1,\n",
        "         1,1,0,0,1,\n",
        "         1,1,0,0,1,\n",
        "         1,0]\n",
        "\n",
        "for idx, name in enumerate(members):\n",
        "    if check[idx] == 1:\n",
        "        print(name)"
      ]
    },
    {
      "cell_type": "code",
      "execution_count": 132,
      "metadata": {
        "colab": {
          "base_uri": "https://localhost:8080/"
        },
        "id": "ec2GcOnvy6O9",
        "outputId": "a5e25d58-6440-4f35-9b57-8a0f309239fb"
      },
      "outputs": [
        {
          "name": "stdout",
          "output_type": "stream",
          "text": [
            "윤하원\n",
            "오수성\n",
            "박지원\n",
            "이재권\n",
            "서민지\n",
            "이랑\n",
            "백지윤\n",
            "김종현\n",
            "이대현\n",
            "이효재\n",
            "김재헌\n",
            "김준영\n"
          ]
        }
      ],
      "source": [
        "# zip 함수 사용\n",
        "for name, chk in zip(members, check):\n",
        "    if chk ==1 :\n",
        "        print(name)"
      ]
    },
    {
      "cell_type": "code",
      "execution_count": 133,
      "metadata": {
        "colab": {
          "base_uri": "https://localhost:8080/"
        },
        "id": "e6xNZSwt0yut",
        "outputId": "813e10ae-b55e-4836-e5dc-661e07c74f9a"
      },
      "outputs": [
        {
          "name": "stdout",
          "output_type": "stream",
          "text": [
            "['윤하원', '오수성', '박지원', '이재권', '서민지', '이랑', '백지윤', '김종현', '이대현', '이효재', '김재헌', '김준영']\n"
          ]
        }
      ],
      "source": [
        "# 사용자 함수\n",
        "def find_checked_names(names, checks):\n",
        "  retNames = []\n",
        "  for n, c in zip(names, checks):\n",
        "    if c == 1:\n",
        "      retNames.append(n)\n",
        "  return retNames\n",
        "\n",
        "ret = find_checked_names(members, check)\n",
        "print(ret)"
      ]
    },
    {
      "cell_type": "code",
      "execution_count": 134,
      "metadata": {
        "colab": {
          "base_uri": "https://localhost:8080/"
        },
        "id": "GIbG8KiV4W_1",
        "outputId": "4d9ef727-b8ba-4743-d00b-f8bb0fb19d6a"
      },
      "outputs": [
        {
          "name": "stdout",
          "output_type": "stream",
          "text": [
            "['윤하원', '오수성', '박지원', '이재권', '서민지', '이랑', '백지윤', '김종현', '이대현', '이효재', '김재헌', '김준영']\n",
            "['윤하원', '오수성', '박지원', '이재권', '서민지', '이랑', '백지윤', '김종현', '이대현', '이효재', '김재헌', '김준영']\n",
            "['손형민', '조재홍', '이상욱', '강호현', '정송희', '류효주', '이재현', '두소진', '이득규', '김영경']\n"
          ]
        }
      ],
      "source": [
        "def find_checked_names(names, checks, num=1):\n",
        "  retNames = []\n",
        "  for n, c in zip(names, checks):\n",
        "    if c == num:\n",
        "      retNames.append(n)\n",
        "  return retNames\n",
        "\n",
        "ret = find_checked_names(members, check)\n",
        "print(ret)\n",
        "ret = find_checked_names(members, check, 1)\n",
        "print(ret)\n",
        "ret = find_checked_names(members, check, 0)\n",
        "print(ret)"
      ]
    },
    {
      "cell_type": "code",
      "execution_count": null,
      "metadata": {
        "id": "y5yu7l4EZD9p"
      },
      "outputs": [],
      "source": [
        "# 직각삼각형 정수 변의 길이 찾기"
      ]
    },
    {
      "cell_type": "code",
      "execution_count": null,
      "metadata": {
        "colab": {
          "base_uri": "https://localhost:8080/"
        },
        "id": "gH--rEvl-tSk",
        "outputId": "3671f1e8-352a-49a7-964a-ecbfbe226207"
      },
      "outputs": [
        {
          "name": "stdout",
          "output_type": "stream",
          "text": [
            "[[3, 4, 5], [4, 3, 5], [5, 12, 13], [6, 8, 10], [7, 24, 25], [8, 6, 10], [8, 15, 17], [9, 12, 15], [10, 24, 26], [12, 5, 13], [12, 9, 15], [12, 16, 20], [15, 8, 17], [15, 20, 25], [16, 12, 20], [20, 15, 25], [20, 21, 29], [21, 20, 29], [24, 7, 25], [24, 10, 26]]\n"
          ]
        }
      ],
      "source": [
        "# 직각삼각형 뽑기\n",
        "# 1~ 30\n",
        "# 30*2 -> 900\n",
        "from math import sqrt\n",
        "zp = 0\n",
        "answer = []\n",
        "for i in range(1,30):\n",
        "    for j in range(1,30):\n",
        "        zp = i**2 + j**2\n",
        "        # zp 의 제곱근이 양수이고, 30 미만인지 확인하고 맞으면 리스트에 i,j,z append\n",
        "        if sqrt(zp).is_integer() and (sqrt(zp) < 30): #  float\n",
        "            answer.append([i, j, int(sqrt(zp))])  # int로 변환해서 저장\n",
        "\n",
        "print(answer)"
      ]
    },
    {
      "cell_type": "code",
      "execution_count": 136,
      "metadata": {
        "colab": {
          "base_uri": "https://localhost:8080/"
        },
        "id": "GEGZm_CfDfGb",
        "outputId": "1cc47a7a-94ef-4d1d-d698-f77983922305"
      },
      "outputs": [
        {
          "name": "stdout",
          "output_type": "stream",
          "text": [
            "[[3, 4, 5], [5, 12, 13], [6, 8, 10], [7, 24, 25], [8, 15, 17], [9, 12, 15], [10, 24, 26], [12, 16, 20], [15, 20, 25], [20, 21, 29]]\n"
          ]
        }
      ],
      "source": [
        "# 직각삼각형 뽑기\n",
        "# 정수르 저장하는 메모리를 할당해 줘야 함...\n",
        "# 중첩된 값 제거됨\n",
        "# 1~ 30\n",
        "# 30*2 -> 900\n",
        "from math import sqrt\n",
        "zp = 0\n",
        "answer = []\n",
        "\n",
        "# 시간복잡도 n * (1/2)*n -> O(N^2)\n",
        "for i in range(1,30):\n",
        "    for j in range(i,30): # 중첩된 값 제거됨\n",
        "        zp = i**2 + j**2\n",
        "        # zp 의 제곱근이 양수이고, 30 미만인지 확인하고 맞으면 리스트에 i,j,z append\n",
        "        if sqrt(zp).is_integer() and (sqrt(zp) < 30): #  float\n",
        "            answer.append([i, j, int(sqrt(zp))])  # int로 변환해서 저장\n",
        "\n",
        "print(answer)"
      ]
    },
    {
      "cell_type": "code",
      "execution_count": 137,
      "metadata": {
        "colab": {
          "base_uri": "https://localhost:8080/"
        },
        "id": "rshw2gdTGcfS",
        "outputId": "012c6918-9d51-4960-d7cc-e9fc5065d01a"
      },
      "outputs": [
        {
          "name": "stdout",
          "output_type": "stream",
          "text": [
            "[[3, 4, 5], [5, 12, 13], [6, 8, 10], [7, 24, 25], [8, 15, 17], [9, 12, 15], [10, 24, 26], [12, 16, 20], [15, 20, 25], [20, 21, 29]]\n"
          ]
        }
      ],
      "source": [
        "zp = 0\n",
        "answer = []\n",
        "\n",
        "# 시간복잡도 n * (1/2)*n -> O(N^2)\n",
        "for i in range(1,30):\n",
        "    for j in range(i,30): # 중첩된 값 제거됨\n",
        "        z = (i**2 + j**2)**(1/2)\n",
        "        zi = int(z)\n",
        "        if ((z==zi) and z < 30):\n",
        "            answer.append([i,j,zi])\n",
        "\n",
        "print(answer)"
      ]
    },
    {
      "cell_type": "code",
      "execution_count": 138,
      "metadata": {
        "colab": {
          "base_uri": "https://localhost:8080/"
        },
        "id": "BTsmPbN2I16T",
        "outputId": "f50776c5-56a8-42db-a0a6-a4f2a05e4525"
      },
      "outputs": [
        {
          "name": "stdout",
          "output_type": "stream",
          "text": [
            "[[3, 4, 5], [5, 12, 13], [6, 8, 10], [7, 24, 25], [8, 15, 17], [9, 12, 15], [10, 24, 26], [12, 16, 20], [15, 20, 25], [20, 21, 29]]\n"
          ]
        }
      ],
      "source": [
        "# 리스트 컴프리헨션\n",
        "# 최적화된 코드라 더 좋음\n",
        "rtgs = [[x,y,z] for x in range(1,30)\n",
        "                for y in range(x,30)\n",
        "                for z in range(y, 30) if (x*x + y*y == z*z)]\n",
        "print(rtgs)"
      ]
    },
    {
      "cell_type": "markdown",
      "metadata": {
        "id": "cvFHdY5HYeXo"
      },
      "source": [
        "# 3. 리스트에서 가장 많이 등장한 숫자와 등장 횟수 세기"
      ]
    },
    {
      "cell_type": "code",
      "execution_count": 17,
      "metadata": {
        "colab": {
          "base_uri": "https://localhost:8080/"
        },
        "id": "_SVVLkfSMqfq",
        "outputId": "dc5ba234-fe09-4ca6-e337-430957743b86"
      },
      "outputs": [
        {
          "name": "stdout",
          "output_type": "stream",
          "text": [
            "[1, 3] 3\n"
          ]
        }
      ],
      "source": [
        "# 방법 1\n",
        "# 리스트 생성: 0~19 + 0~4 + 1~19 홀수\n",
        "# count 함수 기억하기\n",
        "testlst = [x for x in range(20)] + [x for x in range(5)] + [x for x in range(1, 20, 2)]\n",
        "\n",
        "# 중복 제거 후 정렬\n",
        "test = sorted(list(set(testlst)))\n",
        "\n",
        "# 등장 횟수를 저장할 리스트\n",
        "cntlst = []\n",
        "\n",
        "# 최종 답을 저장할 리스트\n",
        "answer = []\n",
        "\n",
        "# 각 숫자가 testlst에서 몇 번 나왔는지 카운트\n",
        "cntlst = [testlst.count(x) for x in test]\n",
        "\n",
        "# 가장 많이 등장한 횟수 찾기\n",
        "m = max(cntlst)\n",
        "\n",
        "# 가장 많이 등장한 숫자의 인덱스들 찾기\n",
        "idxlst = [index for index, val in enumerate(cntlst) if val == m]\n",
        "\n",
        "# 인덱스를 이용해 해당 숫자들(answer)을 모으기\n",
        "for idx in idxlst:\n",
        "    answer.append(test[idx])\n",
        "\n",
        "# 최종 출력: 가장 많이 등장한 숫자 리스트와 등장 횟수\n",
        "print(answer, m)"
      ]
    },
    {
      "cell_type": "code",
      "execution_count": 14,
      "metadata": {
        "colab": {
          "base_uri": "https://localhost:8080/"
        },
        "id": "NJ8B3P6XS0yg",
        "outputId": "c4415150-9764-4d6e-cc0c-ac275daef4f3"
      },
      "outputs": [
        {
          "name": "stdout",
          "output_type": "stream",
          "text": [
            "[1, 3] 3\n"
          ]
        }
      ],
      "source": [
        "# 방법 2 -> 리스트 컴프리헨션 연습\n",
        "\n",
        "print([sorted(list(set(([x for x in range(20)] + [x for x in range(5)] + [x for x in range(1,20,2)]))))[idx]\n",
        "       for idx in [index for index, val in enumerate([([x for x in range(20)] + [x for x in range(5)] + [x for x in range(1,20,2)]).count(x)\n",
        "       for x in sorted(list(set([x for x in range(20)] + [x for x in range(5)] + [x for x in range(1, 20, 2)])))])\n",
        "       if val == max([([x for x in range(20)] + [x for x in range(5)] + [x for x in range(1,20,2)]).count(x)\n",
        "       for x in sorted(list(set([x for x in range(20)] + [x for x in range(5)] + [x for x in range(1, 20, 2)]\n",
        ")))])]], max([([x for x in range(20)] + [x for x in range(5)] + [x for x in range(1,20,2)]).count(x)\n",
        "       for x in sorted(list(set([x for x in range(20)] + [x for x in range(5)] + [x for x in range(1, 20, 2)]\n",
        ")))]))"
      ]
    },
    {
      "cell_type": "code",
      "execution_count": 8,
      "metadata": {
        "colab": {
          "base_uri": "https://localhost:8080/"
        },
        "id": "MpozYGczWATZ",
        "outputId": "6b03106b-1e00-45f5-8447-6de58e6d2ce0"
      },
      "outputs": [
        {
          "name": "stdout",
          "output_type": "stream",
          "text": [
            "(3, 3)\n"
          ]
        }
      ],
      "source": [
        "# 방법 3\n",
        "testlst = [x for x in range(20)] + [x for x in range(5)] + [x for x in range(1,20,2)]\n",
        "used = []\n",
        "for i in testlst:\n",
        "  if i not in used:\n",
        "    used.append(i)\n",
        "\n",
        "def find_maxValue_maxCount(lst):\n",
        "  maxValue = 0\n",
        "  maxCnt = 0\n",
        "  for i in set(lst):\n",
        "    if maxCnt <= lst.count(i):\n",
        "      maxCnt = lst.count(i)\n",
        "      maxValue = i\n",
        "  return maxValue, maxCnt\n",
        "print(find_maxValue_maxCount(testlst))"
      ]
    },
    {
      "cell_type": "code",
      "execution_count": 18,
      "metadata": {
        "colab": {
          "base_uri": "https://localhost:8080/"
        },
        "id": "oeeHxyNUWijR",
        "outputId": "52c41eb8-7822-43e6-b99a-f0543c4de83d"
      },
      "outputs": [
        {
          "name": "stdout",
          "output_type": "stream",
          "text": [
            "([1, 3], 3)\n"
          ]
        }
      ],
      "source": [
        "# 방법 4\n",
        "# 리스트 생성: 0~19 + 0~4 + 1~19 홀수\n",
        "testlst = [x for x in range(20)] + [x for x in range(5)] + [x for x in range(1, 20, 2)]\n",
        "\n",
        "# 중복 제거 후 정렬\n",
        "\n",
        "def find_maxValue_maxCount(lst):\n",
        "    test = sorted(list(set(lst)))\n",
        "\n",
        "    # 등장 횟수를 저장할 리스트\n",
        "    cntlst = []\n",
        "    # 최종 답을 저장할 리스트\n",
        "    answer = []\n",
        "\n",
        "    # 각 숫자가 lst 몇 번 나왔는지 카운트\n",
        "    cntlst = [lst.count(x) for x in test]\n",
        "\n",
        "    # 가장 많이 등장한 횟수 찾기\n",
        "    m = max(cntlst)\n",
        "    # 가장 많이 등장한 숫자의 인덱스들 찾기\n",
        "    idxlst = [index for index, val in enumerate(cntlst) if val == m]\n",
        "    # 인덱스를 이용해 해당 숫자들(answer)을 모으기\n",
        "    for idx in idxlst:\n",
        "        answer.append(test[idx])\n",
        "\n",
        "    return answer, m\n",
        "\n",
        "print(find_maxValue_maxCount(testlst))"
      ]
    },
    {
      "cell_type": "markdown",
      "metadata": {
        "id": "UMwRwpu8knHX"
      },
      "source": [
        "# 프로그래머스 2문제 풀기"
      ]
    },
    {
      "cell_type": "markdown",
      "metadata": {
        "id": "QsERlEx8kqCH"
      },
      "source": [
        "# 1. 둘만의 암호\n",
        "\n",
        "## 링크 : https://school.programmers.co.kr/learn/courses/30/lessons/155652\n",
        "\n",
        "## 문제 설명\n",
        "- 두 문자열 s와 skip, 그리고 자연수 index가 주어질 때, 다음 규칙에 따라 문자열을 만들려 합니다. 암호의 규칙은 다음과 같습니다.\n",
        "\n",
        "- 문자열 s의 각 알파벳을 index만큼 뒤의 알파벳으로 바꿔줍니다.\n",
        "- index만큼의 뒤의 알파벳이 z를 넘어갈 경우 다시 a로 돌아갑니다.\n",
        "- skip에 있는 알파벳은 제외하고 건너뜁니다.\n",
        "- 예를 들어 s = \"aukks\", skip = \"wbqd\", index = 5일 때, a에서 5만큼 뒤에 있는 알파벳은 f지만 [b, c, d, e, f]에서 'b'와 'd'는 skip에 포함되므로 세지 않습니다. - 따라서 'b', 'd'를 제외하고 'a'에서 5만큼 뒤에 있는 알파벳은 [c, e, f, g, h] 순서에 의해 'h'가 됩니다.\n",
        "- 나머지 \"ukks\" 또한 위 규칙대로 바꾸면 \"appy\"가 되며 결과는 \"happy\"가 됩니다.\n",
        "\n",
        "- 두 문자열 s와 skip, 그리고 자연수 index가 매개변수로 주어질 때 위 규칙대로 s를 변환한 결과를 return하도록 solution 함수를 완성해주세요."
      ]
    },
    {
      "cell_type": "code",
      "execution_count": 19,
      "metadata": {
        "colab": {
          "base_uri": "https://localhost:8080/"
        },
        "id": "eDB818tyku89",
        "outputId": "582b9929-da32-4e69-f47a-6dbfc1e4658d"
      },
      "outputs": [
        {
          "name": "stdout",
          "output_type": "stream",
          "text": [
            "happy\n"
          ]
        }
      ],
      "source": [
        "def solution(s, skip, index):\n",
        "    answer = \"\"\n",
        "    strskip = [x for x in skip]\n",
        "    asci = 0\n",
        "\n",
        "    # 123이 97 124가 98\n",
        "    # s를 index만큼 변환하고 없으면 바꿈. 있으면 그대로, 97 ~ 122 소문자 알파벳 아스키코드\n",
        "    for st in s:\n",
        "        asci = ord(st)\n",
        "        tmp = index\n",
        "        while tmp>0: # index가 0이 될때까지\n",
        "            # skip에 있을때 카운트 하지 않음\n",
        "            asci += 1\n",
        "            if asci > 122:\n",
        "                asci = 97 + (asci - 123)\n",
        "            if chr(asci) in strskip:\n",
        "                continue\n",
        "            else:\n",
        "                tmp -= 1\n",
        "        answer += chr(asci)\n",
        "\n",
        "    return answer\n",
        "\n",
        "s, skip, index = \"aukks\", \"wbqd\", 5\n",
        "print(solution(s, skip, index))"
      ]
    },
    {
      "cell_type": "code",
      "execution_count": 25,
      "metadata": {
        "colab": {
          "base_uri": "https://localhost:8080/"
        },
        "id": "bFgxmNp1lUf_",
        "outputId": "f8110b83-e137-4382-e111-3a62b172a922"
      },
      "outputs": [
        {
          "name": "stdout",
          "output_type": "stream",
          "text": [
            "[0, 0, 0, 0, 0]\n"
          ]
        }
      ],
      "source": [
        "print([0 for x in range(5)])"
      ]
    },
    {
      "cell_type": "markdown",
      "metadata": {
        "id": "WJOCm3vRqyn_"
      },
      "source": [
        "# 2. 정사각형으로 만들기\n",
        "# 링크 : https://school.programmers.co.kr/learn/courses/30/lessons/181830\n",
        "## 문제 설명\n",
        "- 이차원 정수 배열 arr이 매개변수로 주어집니다. arr의 행의 수가 더 많다면 열의 수가 행의 수와 같아지도록 각 행의 끝에 0을 추가하고, 열의 수가 더 많다면 행의 수가 열의 수와 같아지도록 각 열의 끝에 0을 추가한 이차원 배열을 return 하는 solution 함수를 작성해 주세요."
      ]
    },
    {
      "cell_type": "code",
      "execution_count": 28,
      "metadata": {
        "colab": {
          "base_uri": "https://localhost:8080/"
        },
        "id": "JF1bG8KPq1gd",
        "outputId": "afe9a820-eab0-4dbb-dae1-7663cf393a15"
      },
      "outputs": [
        {
          "name": "stdout",
          "output_type": "stream",
          "text": [
            "[[572, 22, 37, 0], [287, 726, 384, 0], [85, 137, 292, 0], [487, 13, 876, 0]]\n"
          ]
        }
      ],
      "source": [
        "def solution(arr):\n",
        "    col = len(arr) # 열의 수\n",
        "    row = len(arr[0]) # 행의 수\n",
        "    answer = []\n",
        "    if row > col: # 열의 수가 행과 같아지도록 각 행의 끝에 0을 추가\n",
        "        add = row - col\n",
        "        zeroarr = [0 for x in range(row)]\n",
        "        for _ in range(add):\n",
        "                arr.append(zeroarr)\n",
        "        answer = arr\n",
        "\n",
        "    elif col > row:\n",
        "        add = col - row\n",
        "        for idx, _ in enumerate(arr):\n",
        "            for _ in range(add):\n",
        "                arr[idx].append(0)\n",
        "        answer = arr\n",
        "\n",
        "    else: # 둘이 같을 때\n",
        "        answer = arr\n",
        "\n",
        "    return answer\n",
        "\n",
        "arr = [[572, 22, 37], [287, 726, 384], [85, 137, 292], [487, 13, 876]]\n",
        "print(solution(arr))"
      ]
    }
  ],
  "metadata": {
    "colab": {
      "provenance": []
    },
    "kernelspec": {
      "display_name": "Python 3",
      "name": "python3"
    },
    "language_info": {
      "name": "python"
    }
  },
  "nbformat": 4,
  "nbformat_minor": 0
}
