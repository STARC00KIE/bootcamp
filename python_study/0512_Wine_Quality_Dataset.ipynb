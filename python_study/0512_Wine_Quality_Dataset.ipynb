{
  "cells": [
    {
      "cell_type": "markdown",
      "id": "5134bb36",
      "metadata": {
        "id": "5134bb36"
      },
      "source": [
        "## Data  개요\n",
        "**적포도주 및 백포도주 샘플의 물리화학적 특성 및 품질 등급**\n",
        "- UCI 머신러닝 저장소에 공개 : [dataset](https://archive.ics.uci.edu/ml/datasets/Wine+Quality)\n",
        "- 포르투갈 \"Vinho Verde\" 와인의 레드 및 화이트 변종 샘플에 대한 정보를 제공\n",
        "- 각 와인 샘플은 와인 전문가에 의해 품질 평가를 받았고 화학적 테스트를 거쳤음\n",
        "- 개인 정보 보호 및 물류 문제로 인해 포도 유형, 와인 브랜드, 와인 판매 가격 등에 대한 데이터가 없음"
      ]
    },
    {
      "cell_type": "markdown",
      "id": "6a144f9f",
      "metadata": {
        "id": "6a144f9f"
      },
      "source": [
        "```\n",
        "   Input variables (based on physicochemical tests):\n",
        "   1 - fixed acidity (고정된 산도)\n",
        "   2 - volatile acidity (휘발성 산도)\n",
        "   3 - citric acid (구연산)\n",
        "   4 - residual sugar (잔여 설탕)\n",
        "   5 - chlorides (염화물)\n",
        "   6 - free sulfur dioxide (유리 이산화황)\n",
        "   7 - total sulfur dioxide (총 이산화황)\n",
        "   8 - density (밀도)\n",
        "   9 - pH (산도)\n",
        "   10 - sulphates (황산염)\n",
        "   11 - alcohol (알코올)\n",
        "   \n",
        "   Output variable (based on sensory data):\n",
        "   12 - quality (품질) (score between 0 and 10)\n",
        "```\n"
      ]
    },
    {
      "cell_type": "markdown",
      "id": "db980dab",
      "metadata": {
        "id": "db980dab"
      },
      "source": [
        "## Step 1: 질문하기 (Ask questions)\n",
        "데이터가 주어진 상태에서 질문을 할 수도 있고, 질문에 답할 수 있는 데이터를 수집할 수도 있다."
      ]
    },
    {
      "cell_type": "markdown",
      "id": "6b10ff7e",
      "metadata": {
        "id": "6b10ff7e"
      },
      "source": [
        "**질문 예시**\n",
        "- 질문 1. 와인의 품질을 예측하는 데 가장 중요한 화학적 특성은 무엇일까?\n",
        "- 질문 2. 어떤 유형(white, red)의 와인이 더 좋은 평가를 받을까?\n",
        "- 질문 3. 알코올 도수가 높은 와인이 더 좋은 평가를 받을까?\n",
        "- 질문 4. 더 달콤한 와인이 더 나은 평가를 받을까?\n",
        "- 질문 5. 어느 정도의 산도가 와인 품질에 영향을 미칠까?"
      ]
    },
    {
      "cell_type": "markdown",
      "id": "6cc22842",
      "metadata": {
        "id": "6cc22842"
      },
      "source": [
        "## Step 2: 데이터 랭글링 (Wrangle data)\n",
        "- 데이터 랭글링 : 원자료(raw data)를 보다 쉽게 접근하고 분석할 수 있도록 데이터를 정리하고 통합하는 과정\n",
        "(참고. 위키피디아)\n",
        "- 세부적으로는 데이터의 수집(gather), 평가(assess), 정제(clean) 작업으로 나눌 수 있다."
      ]
    },
    {
      "cell_type": "markdown",
      "id": "fceaac4b",
      "metadata": {
        "id": "fceaac4b"
      },
      "source": [
        "**데이터 수집(gather)**"
      ]
    },
    {
      "cell_type": "code",
      "execution_count": null,
      "id": "d12c73af",
      "metadata": {
        "id": "d12c73af"
      },
      "outputs": [],
      "source": []
    },
    {
      "cell_type": "code",
      "execution_count": null,
      "id": "bd523269",
      "metadata": {
        "id": "bd523269"
      },
      "outputs": [],
      "source": []
    },
    {
      "cell_type": "markdown",
      "id": "d8704dbe",
      "metadata": {
        "id": "d8704dbe"
      },
      "source": [
        "**평가(assess)**"
      ]
    },
    {
      "cell_type": "code",
      "execution_count": null,
      "id": "350d1a3d",
      "metadata": {
        "id": "350d1a3d"
      },
      "outputs": [],
      "source": []
    },
    {
      "cell_type": "code",
      "execution_count": null,
      "id": "172bf544-d2f6-4316-99ce-f8820f9a15c8",
      "metadata": {
        "id": "172bf544-d2f6-4316-99ce-f8820f9a15c8"
      },
      "outputs": [],
      "source": []
    },
    {
      "cell_type": "markdown",
      "id": "c28f574f",
      "metadata": {
        "id": "c28f574f"
      },
      "source": [
        "**정제(clean)**"
      ]
    },
    {
      "cell_type": "code",
      "execution_count": null,
      "id": "997253ed-e2b7-4e59-aeda-d9cdb1dd87ea",
      "metadata": {
        "id": "997253ed-e2b7-4e59-aeda-d9cdb1dd87ea"
      },
      "outputs": [],
      "source": []
    },
    {
      "cell_type": "code",
      "execution_count": null,
      "id": "c770ec66-1c2d-4d4e-85e9-a4705e3e06e1",
      "metadata": {
        "id": "c770ec66-1c2d-4d4e-85e9-a4705e3e06e1"
      },
      "outputs": [],
      "source": []
    },
    {
      "cell_type": "markdown",
      "id": "78daef3d",
      "metadata": {
        "id": "78daef3d"
      },
      "source": [
        "## Step 3: 데이터 탐색 (Exploratory Data Analysis)\n",
        "데이터의 패턴을 찾고, 관계를 시각화 하는 작업 등으로 통해 데이터에 대한 직관을 극대화 한다."
      ]
    },
    {
      "cell_type": "code",
      "execution_count": null,
      "id": "6bd81505-565e-447d-9103-c957aa79c3ad",
      "metadata": {
        "id": "6bd81505-565e-447d-9103-c957aa79c3ad"
      },
      "outputs": [],
      "source": []
    },
    {
      "cell_type": "code",
      "execution_count": null,
      "id": "a2d1fa00-9b71-439e-b9d0-2776bd291a42",
      "metadata": {
        "id": "a2d1fa00-9b71-439e-b9d0-2776bd291a42"
      },
      "outputs": [],
      "source": []
    },
    {
      "cell_type": "markdown",
      "id": "08e487e2",
      "metadata": {
        "id": "08e487e2"
      },
      "source": [
        "## Step 4: 결론 도출 또는 예측 (Draw conclusions or make predictions)"
      ]
    },
    {
      "cell_type": "code",
      "execution_count": null,
      "id": "57e54857",
      "metadata": {
        "id": "57e54857"
      },
      "outputs": [],
      "source": []
    },
    {
      "cell_type": "code",
      "execution_count": null,
      "id": "54b0f17a",
      "metadata": {
        "id": "54b0f17a"
      },
      "outputs": [],
      "source": []
    },
    {
      "cell_type": "markdown",
      "id": "1a4ea6de",
      "metadata": {
        "id": "1a4ea6de"
      },
      "source": [
        "- **분석결과** :"
      ]
    },
    {
      "cell_type": "code",
      "execution_count": null,
      "id": "f0ea8d9a-4cc0-4f70-a426-636282d005d2",
      "metadata": {
        "id": "f0ea8d9a-4cc0-4f70-a426-636282d005d2"
      },
      "outputs": [],
      "source": []
    },
    {
      "cell_type": "code",
      "execution_count": null,
      "id": "bfb31eed-9570-443f-8a63-b1136e133c57",
      "metadata": {
        "id": "bfb31eed-9570-443f-8a63-b1136e133c57"
      },
      "outputs": [],
      "source": []
    },
    {
      "cell_type": "markdown",
      "id": "5183a311",
      "metadata": {
        "id": "5183a311"
      },
      "source": [
        "## Step 5: 결과 공유 (Communicate the results)\n",
        "보고서, 이메일, 블로그 등 다양한 방법을 통해 발견한 통찰들을 공유할 수 있다."
      ]
    },
    {
      "cell_type": "code",
      "execution_count": null,
      "id": "cc830c2e",
      "metadata": {
        "id": "cc830c2e"
      },
      "outputs": [],
      "source": []
    },
    {
      "cell_type": "code",
      "execution_count": null,
      "id": "2842bd4e",
      "metadata": {
        "id": "2842bd4e"
      },
      "outputs": [],
      "source": []
    }
  ],
  "metadata": {
    "colab": {
      "provenance": []
    },
    "kernelspec": {
      "display_name": "Python [conda env:base] *",
      "language": "python",
      "name": "conda-base-py"
    },
    "language_info": {
      "codemirror_mode": {
        "name": "ipython",
        "version": 3
      },
      "file_extension": ".py",
      "mimetype": "text/x-python",
      "name": "python",
      "nbconvert_exporter": "python",
      "pygments_lexer": "ipython3",
      "version": "3.12.7"
    }
  },
  "nbformat": 4,
  "nbformat_minor": 5
}