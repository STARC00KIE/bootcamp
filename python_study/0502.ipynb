{
 "cells": [
  {
   "cell_type": "code",
   "execution_count": 27,
   "id": "4d151dab",
   "metadata": {},
   "outputs": [
    {
     "name": "stdout",
     "output_type": "stream",
     "text": [
      "2\n",
      "8\n",
      "3\n"
     ]
    }
   ],
   "source": [
    "# 굿모닝 코딩\n",
    "# t 는 숫자로 구성된 문자열 : \"3141592\"\n",
    "# p 는 숫자로 구성된 문자열 : \"271\"\n",
    "# t 를 p 의 길이로 나누어 p 보다 작거나 같은은 수의 개수를 return\n",
    "# t 는 314, 141, 415, 159, 592 로 나뉘고 p 인 271 보다 작은 수의 개수는 2 개\n",
    "\n",
    "def solution(t, p):\n",
    "    answer = 0\n",
    "    ### Edit here ###\n",
    "    for i in range(len(t[:int(len(t))-int(len(p))+1])): # p 별로 범위 나누기기, O(N)\n",
    "        if int(p) >= int(t[i:i+int(len(p))]):\n",
    "            answer += 1\n",
    "    #################\n",
    "    return print(answer)\n",
    "\n",
    "solution(\"3141592\", \"271\") # 2\n",
    "solution(\"500220839878\", \"7\") # 8\n",
    "solution(\"10203\", \"15\") # 3"
   ]
  },
  {
   "cell_type": "markdown",
   "id": "c51e7dfc",
   "metadata": {},
   "source": [
    "# 리스트 컴프리헨션 정리\n",
    "\n",
    "### [t[i:i+len(p)] for i in range(len(t) - len(p) + 1)]\n",
    "- `for i in range(len(t) - len(p) + 1)` -> 규칙 1 \n",
    "- t[i:i+len(p)] -> 리스트에 들어갈 실제 값\n",
    "\n",
    "### sum([int(x) <= int(p) for x in lst])\n",
    "1. `[    표현식    for x in lst ]`\n",
    "- lst 리스트에 있는 각각의 x에 대해\n",
    "- x가 p보다 작거나 같은지 비교해서\n",
    "- 그 결과(True 또는 False)를 리스트로 만든다!"
   ]
  },
  {
   "cell_type": "code",
   "execution_count": 31,
   "id": "844524e3",
   "metadata": {},
   "outputs": [
    {
     "name": "stdout",
     "output_type": "stream",
     "text": [
      "['314', '141', '415', '159', '592']\n",
      "2\n",
      "['5', '0', '0', '2', '2', '0', '8', '3', '9', '8', '7', '8']\n",
      "8\n",
      "['10', '02', '20', '03']\n",
      "3\n"
     ]
    }
   ],
   "source": [
    "# 리스트 컴프리헨션 \n",
    "\"\"\"\n",
    "[t[i:i+len(p)] for i in range(len(t) - len(p) + 1)]\n",
    "\n",
    "\"\"\"\n",
    "\n",
    "def solution(t, p):\n",
    "    lst = [t[i:i+len(p)] for i in range(len(t) - len(p) + 1)]\n",
    "    print(lst)\n",
    "    return sum([int(x) <= int(p) for x in lst])\n",
    "\n",
    "print(solution(\"3141592\", \"271\")) # 2\n",
    "print(solution(\"500220839878\", \"7\")) # 8\n",
    "print(solution(\"10203\", \"15\")) # 3"
   ]
  },
  {
   "cell_type": "code",
   "execution_count": 32,
   "id": "9bc20366",
   "metadata": {},
   "outputs": [
    {
     "name": "stdout",
     "output_type": "stream",
     "text": [
      "2\n",
      "8\n",
      "3\n"
     ]
    }
   ],
   "source": [
    "# 제너레이터\n",
    "\n",
    "def solution(t, p):\n",
    "    return sum(int(t[i:i+len(p)]) <= int(p) for i in range(len(t) - len(p) + 1))\n",
    "\n",
    "print(solution(\"3141592\", \"271\")) # 2\n",
    "print(solution(\"500220839878\", \"7\")) # 8\n",
    "print(solution(\"10203\", \"15\")) # 3"
   ]
  },
  {
   "cell_type": "code",
   "execution_count": null,
   "id": "469abe3e",
   "metadata": {},
   "outputs": [],
   "source": [
    "class Person:\n",
    "  def __init__(self, name, age):\n",
    "    self.__name = name\n",
    "    self.__age = age\n",
    "  def setName(self, new_name):\n",
    "    self.__name = new_name\n",
    "  def setAge(self, new_age):\n",
    "    self.__age = new_age\n",
    "  def getName(self):\n",
    "    return self.__name\n",
    "  def getAge(self):\n",
    "    return self.__age\n",
    "  def __str__(self):\n",
    "    return f\"name:{self.__name}, age:{self.__age}\"\n",
    "  def __eq__(self, __o: object):\n",
    "    return (self.__name == __o.__name) & (self.__age == __o.__age)\n",
    "\n",
    "a = Person(\"kim\", 30)\n",
    "b = Person(\"kim\", 25)\n",
    "print(a==b)\n",
    "print(a, b)\n",
    "\n",
    "class Student(Person):\n",
    "  def __init__(self, name, age, major):\n",
    "    super().__init__(name, age)\n",
    "    self.__major = major\n",
    "  def setMajor(self, new_major):\n",
    "    self.__major = new_major\n",
    "  def getMajor(self):\n",
    "    return self.__major\n",
    "  def __str__(self):\n",
    "    return super().__str__() + f\", major:{self.__major}\"\n",
    "  def __eq__(self, __o: object):\n",
    "    return super().__eq__(__o) & (self.__major == __o.__major)\n",
    "\n",
    "c = Student(\"ko\", 30, \"computer science\")\n",
    "d = Student(\"ku\", 30, \"computer science\")\n",
    "print(c)\n",
    "print(c==d)\n",
    "c.setName(\"ku\")\n",
    "print(c)\n",
    "print(c==d)"
   ]
  },
  {
   "cell_type": "code",
   "execution_count": null,
   "id": "8d82991b",
   "metadata": {},
   "outputs": [],
   "source": [
    "class Person:\n",
    "  def __init__(self, name, age):\n",
    "    self.__name = name\n",
    "    self.__age = age\n",
    "  def setName(self, new_name):\n",
    "    self.__name = new_name\n",
    "  def setAge(self, new_age):\n",
    "    self.__age = new_age\n",
    "  def getName(self):\n",
    "    return self.__name\n",
    "  def getAge(self):\n",
    "    return self.__age\n",
    "  def __str__(self):\n",
    "    return f\"name:{self.__name}, age:{self.__age}\"\n",
    "  def __eq__(self, __o: object):\n",
    "    return (self.__name == __o.__name) & (self.__age == __o.__age)\n",
    "\n",
    "a = Person(\"kim\", 30)\n",
    "b = Person(\"kim\", 25)\n",
    "print(a==b)\n",
    "print(a, b)\n",
    "\n",
    "class Student(Person):\n",
    "  def __init__(self, name, age, major):\n",
    "    super().__init__(name, age)\n",
    "    self.__major = major\n",
    "  def setMajor(self, new_major):\n",
    "    self.__major = new_major\n",
    "  def getMajor(self):\n",
    "    return self.__major\n",
    "  def __str__(self):\n",
    "    return f\"{self.getName()}, major:{self.__major}\"\n",
    "  def __eq__(self, __o: object):\n",
    "    return super().__eq__(__o) & (self.__major == __o.__major)\n",
    "\n",
    "c = Student(\"ko\", 30, \"computer science\")\n",
    "d = Student(\"ku\", 30, \"computer science\")\n",
    "print(c)\n",
    "print(c==d)\n",
    "c.setName(\"ku\")\n",
    "print(c)\n",
    "print(c==d)"
   ]
  },
  {
   "cell_type": "code",
   "execution_count": null,
   "id": "d6698c0b",
   "metadata": {},
   "outputs": [],
   "source": [
    "fo = open('foo.txt', 'w')\n",
    "fo.write(\"test message~!!!\")\n",
    "fo.close()"
   ]
  },
  {
   "cell_type": "code",
   "execution_count": null,
   "id": "7f08af7b",
   "metadata": {},
   "outputs": [
    {
     "ename": "ModuleNotFoundError",
     "evalue": "No module named 'google'",
     "output_type": "error",
     "traceback": [
      "\u001b[31m---------------------------------------------------------------------------\u001b[39m",
      "\u001b[31mModuleNotFoundError\u001b[39m                       Traceback (most recent call last)",
      "\u001b[36mCell\u001b[39m\u001b[36m \u001b[39m\u001b[32mIn[33]\u001b[39m\u001b[32m, line 1\u001b[39m\n\u001b[32m----> \u001b[39m\u001b[32m1\u001b[39m \u001b[38;5;28;01mfrom\u001b[39;00m\u001b[38;5;250m \u001b[39m\u001b[34;01mgoogle\u001b[39;00m\u001b[34;01m.\u001b[39;00m\u001b[34;01mcolab\u001b[39;00m\u001b[38;5;250m \u001b[39m\u001b[38;5;28;01mimport\u001b[39;00m drive\n\u001b[32m      2\u001b[39m drive.mount(\u001b[33m\"\u001b[39m\u001b[33m/content/drive\u001b[39m\u001b[33m\"\u001b[39m)\n",
      "\u001b[31mModuleNotFoundError\u001b[39m: No module named 'google'"
     ]
    }
   ],
   "source": [
    "# 구글에서 파일 열고 닫을 때 drive 마운트 해줘야함\n",
    "\n",
    "\"\"\"from google.colab import drive\n",
    "drive.mount(\"/content/drive\")\"\"\""
   ]
  },
  {
   "cell_type": "code",
   "execution_count": 36,
   "id": "6bf48a00",
   "metadata": {},
   "outputs": [],
   "source": [
    "rootdir = \"./file/\"\n",
    "fo = open(rootdir + 'foo.txt', 'w')\n",
    "fo.write(\"test message~!!!\\n\")\n",
    "fo.write(\"test message~!!!\\n\")\n",
    "fo.seek(10)\n",
    "fo.write(\"test message~!!!\\n\")\n",
    "fo.write(\"test message~!!!\\n\")\n",
    "fo.close()"
   ]
  },
  {
   "cell_type": "code",
   "execution_count": 39,
   "id": "1f3053a9",
   "metadata": {},
   "outputs": [
    {
     "name": "stdout",
     "output_type": "stream",
     "text": [
      "test messatest message~!!!\n",
      "test message~!!!\n",
      "\n"
     ]
    }
   ],
   "source": [
    "fo = open(rootdir + 'foo.txt', 'r')\n",
    "print(fo.read())\n",
    "fo.close()"
   ]
  },
  {
   "cell_type": "code",
   "execution_count": 40,
   "id": "7466f394",
   "metadata": {},
   "outputs": [
    {
     "name": "stdout",
     "output_type": "stream",
     "text": [
      "test messate\n",
      "st message\n"
     ]
    }
   ],
   "source": [
    "fo = open(rootdir + 'foo.txt', 'r')\n",
    "print(fo.read(12))\n",
    "print(fo.read(10))\n",
    "fo.close()"
   ]
  },
  {
   "cell_type": "code",
   "execution_count": 42,
   "id": "f8e2e42c",
   "metadata": {},
   "outputs": [
    {
     "name": "stdout",
     "output_type": "stream",
     "text": [
      "test messatest message~!!!\n",
      "\n",
      "test message~!!!\n",
      "\n"
     ]
    }
   ],
   "source": [
    "fo = open(rootdir + 'foo.txt', 'r')\n",
    "print(fo.readline())\n",
    "print(fo.readline())\n",
    "fo.close()"
   ]
  },
  {
   "cell_type": "code",
   "execution_count": 43,
   "id": "c39b1685",
   "metadata": {},
   "outputs": [
    {
     "name": "stdout",
     "output_type": "stream",
     "text": [
      "['kim 80 90\\n', 'lee 78 50\\n', 'ko 50 100\\n', 'jung 60 75\\n', 'park 100 00']\n"
     ]
    }
   ],
   "source": [
    "fo = open(rootdir + 'score.txt', 'r')\n",
    "print(fo.readlines())\n",
    "fo.close()"
   ]
  },
  {
   "cell_type": "code",
   "execution_count": 74,
   "id": "8a84243a",
   "metadata": {},
   "outputs": [
    {
     "name": "stdout",
     "output_type": "stream",
     "text": [
      "{'kim': [80, 90], 'lee': [78, 50], 'ko': [50, 100], 'jung': [60, 75], 'park': [100, 0]}\n"
     ]
    }
   ],
   "source": [
    "def solution(rootdir):\n",
    "    fo = open(rootdir + 'score.txt', 'r')\n",
    "    lst = fo.readlines()\n",
    "    dic = {}\n",
    "\n",
    "    fo.close()\n",
    "    \n",
    "    for l in lst:\n",
    "        name, num1, num2 = l.split(\" \")\n",
    "        # 만약에 마지막 문자가 '\\n'이면 지워주기\n",
    "        dic[name] = [int(num1), int(num2)]\n",
    "    \n",
    "    \n",
    "    return(dic)\n",
    "\n",
    "print(solution(rootdir))"
   ]
  }
 ],
 "metadata": {
  "kernelspec": {
   "display_name": "Python 3",
   "language": "python",
   "name": "python3"
  },
  "language_info": {
   "codemirror_mode": {
    "name": "ipython",
    "version": 3
   },
   "file_extension": ".py",
   "mimetype": "text/x-python",
   "name": "python",
   "nbconvert_exporter": "python",
   "pygments_lexer": "ipython3",
   "version": "3.11.9"
  }
 },
 "nbformat": 4,
 "nbformat_minor": 5
}
